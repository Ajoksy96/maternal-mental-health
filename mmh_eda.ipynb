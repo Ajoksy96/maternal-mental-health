{
 "cells": [
  {
   "cell_type": "code",
   "execution_count": 46,
   "id": "15f8db93",
   "metadata": {},
   "outputs": [],
   "source": [
    "# import relevant libraries & data\n",
    "import pandas as pd\n",
    "adult19 = pd.read_csv(\"data/adult19.csv\")\n",
    "adult20 = pd.read_csv(\"data/adult20.csv\")\n",
    "adult21 = pd.read_csv(\"data/adult21.csv\")"
   ]
  },
  {
   "cell_type": "code",
   "execution_count": 47,
   "id": "f1ce811c",
   "metadata": {},
   "outputs": [],
   "source": [
    "# keep only relevant columns/variables\n",
    "adult19 = adult19[['SRVY_YR', 'HHX', 'REGION', 'AGEP_A', 'SEX_A', 'EDUC_A', 'RACEALLP_A', 'ORIENT_A', 'MARITAL_A',\n",
    "                'RATCAT_A', 'NATUSBORN_A', 'FDSCAT3_A', 'FWIC12M_A', 'PHSTAT_A', 'BMICAT_A', 'HICOV_A', 'MEDNG12M_A', \n",
    "                'LIVEBIRTH_A', 'PREGNOW_A', 'SOCSCLPAR_A', 'ANXFREQ_A', 'DEPFREQ_A', 'MHTHRPY_A']]\n",
    "\n",
    "adult20 = adult20[['SRVY_YR', 'HHX', 'REGION', 'AGEP_A', 'SEX_A', 'EDUC_A', 'RACEALLP_A', 'ORIENT_A', 'MARITAL_A',\n",
    "                'RATCAT_A', 'NATUSBORN_A', 'FDSCAT3_A', 'FWIC12M_A', 'PHSTAT_A', 'BMICAT_A', 'HICOV_A', 'MEDNG12M_A', \n",
    "                'LIVEBIRTH_A', 'PREGNOW_A', 'SOCSCLPAR_A', 'ANXFREQ_A', 'DEPFREQ_A', 'MHTHRPY_A']]\n",
    "\n",
    "adult21 = adult21[['SRVY_YR', 'HHX', 'REGION', 'AGEP_A', 'SEX_A', 'EDUCP_A', 'RACEALLP_A', 'ORIENT_A', 'MARITAL_A',\n",
    "                'RATCAT_A', 'NATUSBORN_A', 'FDSCAT3_A', 'FWIC12M_A', 'PHSTAT_A', 'BMICAT_A', 'HICOV_A', 'MEDNG12M_A', \n",
    "                'LIVEBIRTH_A', 'PREGNOW_A', 'SOCSCLPAR_A', 'ANXFREQ_A', 'DEPFREQ_A', 'MHTHRPY_A']]\n",
    "\n",
    "adult21 = adult21.rename(columns = {'EDUCP_A':'EDUC_A'})"
   ]
  },
  {
   "cell_type": "code",
   "execution_count": 48,
   "id": "4e407606",
   "metadata": {},
   "outputs": [],
   "source": [
    "# merge three datasets\n",
    "dataframe = pd.concat([adult19, adult20, adult21], axis=0)"
   ]
  },
  {
   "cell_type": "code",
   "execution_count": 49,
   "id": "6028dcfb",
   "metadata": {},
   "outputs": [],
   "source": [
    "df = dataframe.copy()"
   ]
  },
  {
   "cell_type": "code",
   "execution_count": 50,
   "id": "feeb377d",
   "metadata": {},
   "outputs": [],
   "source": [
    "# change names of columns/variables\n",
    "replace = {'SRVY_YR': 'survey_year', 'HHX': 'random_id', 'REGION': 'region', 'AGEP_A': 'age', 'SEX_A': 'sex', 'EDUC_A': 'education', 'RACEALLP_A': 'race', 'ORIENT_A': 'sex_orient', 'MARITAL_A': 'marital_stat',\n",
    "           'RATCAT_A': 'inc_pov_ratio', 'NATUSBORN_A': 'us_born', 'FDSCAT3_A': 'food_security', 'FWIC12M_A': 'wic_benefits_12m', 'PHSTAT_A': 'phys_health', 'BMICAT_A': 'bmi', 'HICOV_A': 'health_insur', \n",
    "           'MEDNG12M_A': 'med_care_12m', 'LIVEBIRTH_A': 'live_birth_12m', 'PREGNOW_A': 'pregnant_now', 'SOCSCLPAR_A': 'soc_participation', 'ANXFREQ_A': 'anx_frequency', 'DEPFREQ_A': 'dep_frequency', \n",
    "           'MHTHRPY_A': 'mh_care_12m'}\n",
    "\n",
    "df = df.rename(columns = replace)"
   ]
  },
  {
   "cell_type": "code",
   "execution_count": 51,
   "id": "b7253b53",
   "metadata": {},
   "outputs": [],
   "source": [
    "# key criteria (live births)\n",
    "df = df[df['live_birth_12m'] == 1] # keep individuals who have had a live birth in the past 12 months"
   ]
  },
  {
   "cell_type": "code",
   "execution_count": 52,
   "id": "3359279d",
   "metadata": {},
   "outputs": [
    {
     "data": {
      "text/plain": [
       "1.0    1098\n",
       "Name: live_birth_12m, dtype: int64"
      ]
     },
     "execution_count": 52,
     "metadata": {},
     "output_type": "execute_result"
    }
   ],
   "source": [
    "# count the number of individuals with live births in the past 12 months\n",
    "df['live_birth_12m'].value_counts()"
   ]
  },
  {
   "cell_type": "code",
   "execution_count": 53,
   "id": "061babbe",
   "metadata": {},
   "outputs": [
    {
     "data": {
      "text/plain": [
       "survey_year          0\n",
       "random_id            0\n",
       "region               0\n",
       "age                  0\n",
       "sex                  0\n",
       "education            0\n",
       "race                 0\n",
       "sex_orient           0\n",
       "marital_stat         0\n",
       "inc_pov_ratio        0\n",
       "us_born              0\n",
       "food_security        0\n",
       "wic_benefits_12m     1\n",
       "phys_health          0\n",
       "bmi                  0\n",
       "health_insur         0\n",
       "med_care_12m         0\n",
       "live_birth_12m       0\n",
       "pregnant_now         0\n",
       "soc_participation    0\n",
       "anx_frequency        0\n",
       "dep_frequency        0\n",
       "mh_care_12m          0\n",
       "dtype: int64"
      ]
     },
     "execution_count": 53,
     "metadata": {},
     "output_type": "execute_result"
    }
   ],
   "source": [
    "# count total NaN at each column\n",
    "df.isnull().sum()"
   ]
  },
  {
   "cell_type": "code",
   "execution_count": 54,
   "id": "80d8785f",
   "metadata": {},
   "outputs": [],
   "source": [
    "# recode data for missingness & regrouping\n",
    "import numpy as np\n",
    "\n",
    "for row in df['age']:\n",
    "    if row > 96:\n",
    "        df['age'] = df['age'].replace(row, np.nan) \n",
    "        \n",
    "for row in df['sex']:\n",
    "    if row > 6:\n",
    "        df['sex'] = df['sex'].replace(row, np.nan) \n",
    "\n",
    "for row in df['education']: # recoded (10 = professional or doctoral degree)\n",
    "    if row > 96:\n",
    "        df['education'] = df['education'].replace(row, np.nan)\n",
    "    if row == 11:\n",
    "        df['education'] = df['education'].replace(row, 10)\n",
    "               \n",
    "for row in df['race']: # recoded (5 = other)\n",
    "    if row > 6:\n",
    "        df['race'] = df['race'].replace(row, np.nan)\n",
    "    if row == 6:\n",
    "        df['race'] = df['race'].replace(row, 5)\n",
    "        \n",
    "for row in df['sex_orient']: # recoded (1 = lgbt+, 2 = straight)\n",
    "    if row > 4:\n",
    "        df['sex_orient'] = df['sex_orient'].replace(row, np.nan)\n",
    "    if row == 3 or row == 4:\n",
    "        df['sex_orient'] = df['sex_orient'].replace(row, 1) \n",
    "\n",
    "for row in df['marital_stat']: # recoded (1 = married, 2 = single)\n",
    "    if row > 6:\n",
    "        df['marital_stat'] = df['marital_stat'].replace(row, np.nan)\n",
    "    if row == 3:\n",
    "        df['marital_stat'] = df['marital_stat'].replace(row, 2) \n",
    "\n",
    "for row in df['inc_pov_ratio']:\n",
    "    if row > 97:\n",
    "        df['inc_pov_ratio'] = df['inc_pov_ratio'].replace(row, np.nan) \n",
    "                \n",
    "for row in df['us_born']:\n",
    "    if row > 6:\n",
    "        df['us_born'] = df['us_born'].replace(row, np.nan) \n",
    "\n",
    "for row in df['food_security']:\n",
    "    if row > 6:\n",
    "        df['food_security'] = df['food_security'].replace(row, np.nan)  \n",
    "        \n",
    "for row in df['wic_benefits_12m']:\n",
    "    if row > 6:\n",
    "        df['wic_benefits_12m'] = df['wic_benefits_12m'].replace(row, np.nan)        \n",
    "\n",
    "for row in df['phys_health']:\n",
    "    if row > 6:\n",
    "        df['phys_health'] = df['phys_health'].replace(row, np.nan) \n",
    "        \n",
    "for row in df['bmi']:\n",
    "    if row > 6:\n",
    "        df['bmi'] = df['bmi'].replace(row, np.nan) \n",
    "\n",
    "for row in df['health_insur']:\n",
    "    if row > 6:\n",
    "        df['health_insur'] = df['health_insur'].replace(row, np.nan) \n",
    "\n",
    "for row in df['med_care_12m']:\n",
    "    if row > 6:\n",
    "        df['med_care_12m'] = df['med_care_12m'].replace(row, np.nan) \n",
    "\n",
    "for row in df['pregnant_now']:\n",
    "    if row > 6:\n",
    "        df['pregnant_now'] = df['pregnant_now'].replace(row, np.nan) \n",
    "        \n",
    "for row in df['soc_participation']:\n",
    "    if row > 6:\n",
    "        df['soc_participation'] = df['soc_participation'].replace(row, np.nan) \n",
    "        \n",
    "for row in df['anx_frequency']:\n",
    "    if row > 6:\n",
    "        df['anx_frequency'] = df['anx_frequency'].replace(row, np.nan) \n",
    "\n",
    "for row in df['dep_frequency']:\n",
    "    if row > 6:\n",
    "        df['dep_frequency'] = df['dep_frequency'].replace(row, np.nan)         \n",
    "        \n",
    "for row in df['mh_care_12m']:\n",
    "    if row > 6:\n",
    "        df['mh_care_12m'] = df['mh_care_12m'].replace(row, np.nan)"
   ]
  },
  {
   "cell_type": "code",
   "execution_count": 55,
   "id": "28ab03de",
   "metadata": {},
   "outputs": [
    {
     "data": {
      "text/plain": [
       "survey_year           0\n",
       "random_id             0\n",
       "region                0\n",
       "age                   1\n",
       "sex                   0\n",
       "education             2\n",
       "race                 94\n",
       "sex_orient           29\n",
       "marital_stat         21\n",
       "inc_pov_ratio         0\n",
       "us_born              18\n",
       "food_security        29\n",
       "wic_benefits_12m     30\n",
       "phys_health           0\n",
       "bmi                  34\n",
       "health_insur          1\n",
       "med_care_12m          0\n",
       "live_birth_12m        0\n",
       "pregnant_now          1\n",
       "soc_participation     0\n",
       "anx_frequency         6\n",
       "dep_frequency         6\n",
       "mh_care_12m           5\n",
       "dtype: int64"
      ]
     },
     "execution_count": 55,
     "metadata": {},
     "output_type": "execute_result"
    }
   ],
   "source": [
    "# count total NaN at each column\n",
    "df.isnull().sum()"
   ]
  },
  {
   "cell_type": "code",
   "execution_count": 56,
   "id": "6d1f488d",
   "metadata": {},
   "outputs": [
    {
     "data": {
      "text/plain": [
       "9409     8\n",
       "11487    8\n",
       "9412     8\n",
       "6607     8\n",
       "25672    6\n",
       "        ..\n",
       "29238    0\n",
       "29285    0\n",
       "29424    0\n",
       "29541    0\n",
       "29456    0\n",
       "Length: 1098, dtype: int64"
      ]
     },
     "execution_count": 56,
     "metadata": {},
     "output_type": "execute_result"
    }
   ],
   "source": [
    "# check missing data for individuals\n",
    "df.isnull().sum(axis=1).sort_values(ascending=False)"
   ]
  },
  {
   "cell_type": "code",
   "execution_count": 57,
   "id": "cc52160b",
   "metadata": {},
   "outputs": [
    {
     "name": "stdout",
     "output_type": "stream",
     "text": [
      "<class 'pandas.core.frame.DataFrame'>\n",
      "Int64Index: 1098 entries, 60 to 29456\n",
      "Data columns (total 23 columns):\n",
      " #   Column             Non-Null Count  Dtype  \n",
      "---  ------             --------------  -----  \n",
      " 0   survey_year        1098 non-null   int64  \n",
      " 1   random_id          1098 non-null   object \n",
      " 2   region             1098 non-null   int64  \n",
      " 3   age                1097 non-null   float64\n",
      " 4   sex                1098 non-null   int64  \n",
      " 5   education          1096 non-null   float64\n",
      " 6   race               1004 non-null   float64\n",
      " 7   sex_orient         1069 non-null   float64\n",
      " 8   marital_stat       1077 non-null   float64\n",
      " 9   inc_pov_ratio      1098 non-null   int64  \n",
      " 10  us_born            1080 non-null   float64\n",
      " 11  food_security      1069 non-null   float64\n",
      " 12  wic_benefits_12m   1068 non-null   float64\n",
      " 13  phys_health        1098 non-null   int64  \n",
      " 14  bmi                1064 non-null   float64\n",
      " 15  health_insur       1097 non-null   float64\n",
      " 16  med_care_12m       1098 non-null   int64  \n",
      " 17  live_birth_12m     1098 non-null   float64\n",
      " 18  pregnant_now       1097 non-null   float64\n",
      " 19  soc_participation  1098 non-null   int64  \n",
      " 20  anx_frequency      1092 non-null   float64\n",
      " 21  dep_frequency      1092 non-null   float64\n",
      " 22  mh_care_12m        1093 non-null   float64\n",
      "dtypes: float64(15), int64(7), object(1)\n",
      "memory usage: 205.9+ KB\n"
     ]
    }
   ],
   "source": [
    "# check data types\n",
    "df.info()"
   ]
  },
  {
   "cell_type": "code",
   "execution_count": 58,
   "id": "110271d3",
   "metadata": {},
   "outputs": [
    {
     "name": "stdout",
     "output_type": "stream",
     "text": [
      "<class 'pandas.core.frame.DataFrame'>\n",
      "Int64Index: 1098 entries, 60 to 29456\n",
      "Data columns (total 23 columns):\n",
      " #   Column             Non-Null Count  Dtype  \n",
      "---  ------             --------------  -----  \n",
      " 0   survey_year        1098 non-null   int64  \n",
      " 1   random_id          1098 non-null   string \n",
      " 2   region             1098 non-null   int64  \n",
      " 3   age                1097 non-null   float64\n",
      " 4   sex                1098 non-null   int64  \n",
      " 5   education          1096 non-null   float64\n",
      " 6   race               1004 non-null   float64\n",
      " 7   sex_orient         1069 non-null   float64\n",
      " 8   marital_stat       1077 non-null   float64\n",
      " 9   inc_pov_ratio      1098 non-null   int64  \n",
      " 10  us_born            1080 non-null   float64\n",
      " 11  food_security      1069 non-null   float64\n",
      " 12  wic_benefits_12m   1068 non-null   float64\n",
      " 13  phys_health        1098 non-null   int64  \n",
      " 14  bmi                1064 non-null   float64\n",
      " 15  health_insur       1097 non-null   float64\n",
      " 16  med_care_12m       1098 non-null   int64  \n",
      " 17  live_birth_12m     1098 non-null   float64\n",
      " 18  pregnant_now       1097 non-null   float64\n",
      " 19  soc_participation  1098 non-null   int64  \n",
      " 20  anx_frequency      1092 non-null   float64\n",
      " 21  dep_frequency      1092 non-null   float64\n",
      " 22  mh_care_12m        1093 non-null   float64\n",
      "dtypes: float64(15), int64(7), string(1)\n",
      "memory usage: 205.9 KB\n"
     ]
    }
   ],
   "source": [
    "# change random_id from object to string\n",
    "df['random_id'] = df['random_id'].astype('string') \n",
    "df.info()"
   ]
  },
  {
   "cell_type": "code",
   "execution_count": 59,
   "id": "615f6c4b",
   "metadata": {},
   "outputs": [
    {
     "data": {
      "text/html": [
       "<div>\n",
       "<style scoped>\n",
       "    .dataframe tbody tr th:only-of-type {\n",
       "        vertical-align: middle;\n",
       "    }\n",
       "\n",
       "    .dataframe tbody tr th {\n",
       "        vertical-align: top;\n",
       "    }\n",
       "\n",
       "    .dataframe thead th {\n",
       "        text-align: right;\n",
       "    }\n",
       "</style>\n",
       "<table border=\"1\" class=\"dataframe\">\n",
       "  <thead>\n",
       "    <tr style=\"text-align: right;\">\n",
       "      <th></th>\n",
       "      <th>survey_year</th>\n",
       "      <th>region</th>\n",
       "      <th>age</th>\n",
       "      <th>sex</th>\n",
       "      <th>education</th>\n",
       "      <th>race</th>\n",
       "      <th>sex_orient</th>\n",
       "      <th>marital_stat</th>\n",
       "      <th>inc_pov_ratio</th>\n",
       "      <th>us_born</th>\n",
       "      <th>...</th>\n",
       "      <th>phys_health</th>\n",
       "      <th>bmi</th>\n",
       "      <th>health_insur</th>\n",
       "      <th>med_care_12m</th>\n",
       "      <th>live_birth_12m</th>\n",
       "      <th>pregnant_now</th>\n",
       "      <th>soc_participation</th>\n",
       "      <th>anx_frequency</th>\n",
       "      <th>dep_frequency</th>\n",
       "      <th>mh_care_12m</th>\n",
       "    </tr>\n",
       "  </thead>\n",
       "  <tbody>\n",
       "    <tr>\n",
       "      <th>count</th>\n",
       "      <td>1098.000000</td>\n",
       "      <td>1098.000000</td>\n",
       "      <td>1097.000000</td>\n",
       "      <td>1098.0</td>\n",
       "      <td>1096.000000</td>\n",
       "      <td>1004.000000</td>\n",
       "      <td>1069.000000</td>\n",
       "      <td>1077.000000</td>\n",
       "      <td>1098.000000</td>\n",
       "      <td>1080.000000</td>\n",
       "      <td>...</td>\n",
       "      <td>1098.000000</td>\n",
       "      <td>1064.000000</td>\n",
       "      <td>1097.000000</td>\n",
       "      <td>1098.000000</td>\n",
       "      <td>1098.0</td>\n",
       "      <td>1097.000000</td>\n",
       "      <td>1098.000000</td>\n",
       "      <td>1092.000000</td>\n",
       "      <td>1092.000000</td>\n",
       "      <td>1093.000000</td>\n",
       "    </tr>\n",
       "    <tr>\n",
       "      <th>mean</th>\n",
       "      <td>2019.947177</td>\n",
       "      <td>2.705829</td>\n",
       "      <td>31.173200</td>\n",
       "      <td>2.0</td>\n",
       "      <td>6.267336</td>\n",
       "      <td>1.426295</td>\n",
       "      <td>1.954163</td>\n",
       "      <td>1.309192</td>\n",
       "      <td>8.595628</td>\n",
       "      <td>1.232407</td>\n",
       "      <td>...</td>\n",
       "      <td>1.972678</td>\n",
       "      <td>2.907895</td>\n",
       "      <td>1.090246</td>\n",
       "      <td>1.932605</td>\n",
       "      <td>1.0</td>\n",
       "      <td>1.969918</td>\n",
       "      <td>1.086521</td>\n",
       "      <td>3.385531</td>\n",
       "      <td>4.267399</td>\n",
       "      <td>1.866423</td>\n",
       "    </tr>\n",
       "    <tr>\n",
       "      <th>std</th>\n",
       "      <td>0.848043</td>\n",
       "      <td>1.007711</td>\n",
       "      <td>5.537455</td>\n",
       "      <td>0.0</td>\n",
       "      <td>2.464111</td>\n",
       "      <td>0.893951</td>\n",
       "      <td>0.209230</td>\n",
       "      <td>0.462375</td>\n",
       "      <td>4.435136</td>\n",
       "      <td>0.422563</td>\n",
       "      <td>...</td>\n",
       "      <td>0.910378</td>\n",
       "      <td>0.854942</td>\n",
       "      <td>0.286665</td>\n",
       "      <td>0.250820</td>\n",
       "      <td>0.0</td>\n",
       "      <td>0.170891</td>\n",
       "      <td>0.373191</td>\n",
       "      <td>1.371001</td>\n",
       "      <td>1.046980</td>\n",
       "      <td>0.340353</td>\n",
       "    </tr>\n",
       "    <tr>\n",
       "      <th>min</th>\n",
       "      <td>2019.000000</td>\n",
       "      <td>1.000000</td>\n",
       "      <td>18.000000</td>\n",
       "      <td>2.0</td>\n",
       "      <td>0.000000</td>\n",
       "      <td>1.000000</td>\n",
       "      <td>1.000000</td>\n",
       "      <td>1.000000</td>\n",
       "      <td>1.000000</td>\n",
       "      <td>1.000000</td>\n",
       "      <td>...</td>\n",
       "      <td>1.000000</td>\n",
       "      <td>1.000000</td>\n",
       "      <td>1.000000</td>\n",
       "      <td>1.000000</td>\n",
       "      <td>1.0</td>\n",
       "      <td>1.000000</td>\n",
       "      <td>1.000000</td>\n",
       "      <td>1.000000</td>\n",
       "      <td>1.000000</td>\n",
       "      <td>1.000000</td>\n",
       "    </tr>\n",
       "    <tr>\n",
       "      <th>25%</th>\n",
       "      <td>2019.000000</td>\n",
       "      <td>2.000000</td>\n",
       "      <td>27.000000</td>\n",
       "      <td>2.0</td>\n",
       "      <td>4.000000</td>\n",
       "      <td>1.000000</td>\n",
       "      <td>2.000000</td>\n",
       "      <td>1.000000</td>\n",
       "      <td>5.000000</td>\n",
       "      <td>1.000000</td>\n",
       "      <td>...</td>\n",
       "      <td>1.000000</td>\n",
       "      <td>2.000000</td>\n",
       "      <td>1.000000</td>\n",
       "      <td>2.000000</td>\n",
       "      <td>1.0</td>\n",
       "      <td>2.000000</td>\n",
       "      <td>1.000000</td>\n",
       "      <td>2.000000</td>\n",
       "      <td>4.000000</td>\n",
       "      <td>2.000000</td>\n",
       "    </tr>\n",
       "    <tr>\n",
       "      <th>50%</th>\n",
       "      <td>2020.000000</td>\n",
       "      <td>3.000000</td>\n",
       "      <td>31.000000</td>\n",
       "      <td>2.0</td>\n",
       "      <td>7.000000</td>\n",
       "      <td>1.000000</td>\n",
       "      <td>2.000000</td>\n",
       "      <td>1.000000</td>\n",
       "      <td>9.000000</td>\n",
       "      <td>1.000000</td>\n",
       "      <td>...</td>\n",
       "      <td>2.000000</td>\n",
       "      <td>3.000000</td>\n",
       "      <td>1.000000</td>\n",
       "      <td>2.000000</td>\n",
       "      <td>1.0</td>\n",
       "      <td>2.000000</td>\n",
       "      <td>1.000000</td>\n",
       "      <td>4.000000</td>\n",
       "      <td>5.000000</td>\n",
       "      <td>2.000000</td>\n",
       "    </tr>\n",
       "    <tr>\n",
       "      <th>75%</th>\n",
       "      <td>2021.000000</td>\n",
       "      <td>3.000000</td>\n",
       "      <td>35.000000</td>\n",
       "      <td>2.0</td>\n",
       "      <td>8.000000</td>\n",
       "      <td>1.000000</td>\n",
       "      <td>2.000000</td>\n",
       "      <td>2.000000</td>\n",
       "      <td>13.000000</td>\n",
       "      <td>1.000000</td>\n",
       "      <td>...</td>\n",
       "      <td>3.000000</td>\n",
       "      <td>4.000000</td>\n",
       "      <td>1.000000</td>\n",
       "      <td>2.000000</td>\n",
       "      <td>1.0</td>\n",
       "      <td>2.000000</td>\n",
       "      <td>1.000000</td>\n",
       "      <td>5.000000</td>\n",
       "      <td>5.000000</td>\n",
       "      <td>2.000000</td>\n",
       "    </tr>\n",
       "    <tr>\n",
       "      <th>max</th>\n",
       "      <td>2021.000000</td>\n",
       "      <td>4.000000</td>\n",
       "      <td>49.000000</td>\n",
       "      <td>2.0</td>\n",
       "      <td>10.000000</td>\n",
       "      <td>5.000000</td>\n",
       "      <td>2.000000</td>\n",
       "      <td>2.000000</td>\n",
       "      <td>14.000000</td>\n",
       "      <td>2.000000</td>\n",
       "      <td>...</td>\n",
       "      <td>5.000000</td>\n",
       "      <td>4.000000</td>\n",
       "      <td>2.000000</td>\n",
       "      <td>2.000000</td>\n",
       "      <td>1.0</td>\n",
       "      <td>2.000000</td>\n",
       "      <td>4.000000</td>\n",
       "      <td>5.000000</td>\n",
       "      <td>5.000000</td>\n",
       "      <td>2.000000</td>\n",
       "    </tr>\n",
       "  </tbody>\n",
       "</table>\n",
       "<p>8 rows × 22 columns</p>\n",
       "</div>"
      ],
      "text/plain": [
       "       survey_year       region          age     sex    education  \\\n",
       "count  1098.000000  1098.000000  1097.000000  1098.0  1096.000000   \n",
       "mean   2019.947177     2.705829    31.173200     2.0     6.267336   \n",
       "std       0.848043     1.007711     5.537455     0.0     2.464111   \n",
       "min    2019.000000     1.000000    18.000000     2.0     0.000000   \n",
       "25%    2019.000000     2.000000    27.000000     2.0     4.000000   \n",
       "50%    2020.000000     3.000000    31.000000     2.0     7.000000   \n",
       "75%    2021.000000     3.000000    35.000000     2.0     8.000000   \n",
       "max    2021.000000     4.000000    49.000000     2.0    10.000000   \n",
       "\n",
       "              race   sex_orient  marital_stat  inc_pov_ratio      us_born  \\\n",
       "count  1004.000000  1069.000000   1077.000000    1098.000000  1080.000000   \n",
       "mean      1.426295     1.954163      1.309192       8.595628     1.232407   \n",
       "std       0.893951     0.209230      0.462375       4.435136     0.422563   \n",
       "min       1.000000     1.000000      1.000000       1.000000     1.000000   \n",
       "25%       1.000000     2.000000      1.000000       5.000000     1.000000   \n",
       "50%       1.000000     2.000000      1.000000       9.000000     1.000000   \n",
       "75%       1.000000     2.000000      2.000000      13.000000     1.000000   \n",
       "max       5.000000     2.000000      2.000000      14.000000     2.000000   \n",
       "\n",
       "       ...  phys_health          bmi  health_insur  med_care_12m  \\\n",
       "count  ...  1098.000000  1064.000000   1097.000000   1098.000000   \n",
       "mean   ...     1.972678     2.907895      1.090246      1.932605   \n",
       "std    ...     0.910378     0.854942      0.286665      0.250820   \n",
       "min    ...     1.000000     1.000000      1.000000      1.000000   \n",
       "25%    ...     1.000000     2.000000      1.000000      2.000000   \n",
       "50%    ...     2.000000     3.000000      1.000000      2.000000   \n",
       "75%    ...     3.000000     4.000000      1.000000      2.000000   \n",
       "max    ...     5.000000     4.000000      2.000000      2.000000   \n",
       "\n",
       "       live_birth_12m  pregnant_now  soc_participation  anx_frequency  \\\n",
       "count          1098.0   1097.000000        1098.000000    1092.000000   \n",
       "mean              1.0      1.969918           1.086521       3.385531   \n",
       "std               0.0      0.170891           0.373191       1.371001   \n",
       "min               1.0      1.000000           1.000000       1.000000   \n",
       "25%               1.0      2.000000           1.000000       2.000000   \n",
       "50%               1.0      2.000000           1.000000       4.000000   \n",
       "75%               1.0      2.000000           1.000000       5.000000   \n",
       "max               1.0      2.000000           4.000000       5.000000   \n",
       "\n",
       "       dep_frequency  mh_care_12m  \n",
       "count    1092.000000  1093.000000  \n",
       "mean        4.267399     1.866423  \n",
       "std         1.046980     0.340353  \n",
       "min         1.000000     1.000000  \n",
       "25%         4.000000     2.000000  \n",
       "50%         5.000000     2.000000  \n",
       "75%         5.000000     2.000000  \n",
       "max         5.000000     2.000000  \n",
       "\n",
       "[8 rows x 22 columns]"
      ]
     },
     "execution_count": 59,
     "metadata": {},
     "output_type": "execute_result"
    }
   ],
   "source": [
    "# checking that data make sense (min, max, average)\n",
    "df.describe()"
   ]
  },
  {
   "cell_type": "code",
   "execution_count": 60,
   "id": "d1245308",
   "metadata": {},
   "outputs": [],
   "source": [
    "df = df.drop(columns = ['live_birth_12m', 'sex', 'random_id'])"
   ]
  },
  {
   "cell_type": "code",
   "execution_count": 61,
   "id": "67ea12ed",
   "metadata": {},
   "outputs": [
    {
     "data": {
      "text/plain": [
       "race\n",
       "1.0    1.099075\n",
       "2.0    1.053030\n",
       "3.0    1.012500\n",
       "4.0    1.000000\n",
       "5.0    1.193548\n",
       "Name: soc_participation, dtype: float64"
      ]
     },
     "execution_count": 61,
     "metadata": {},
     "output_type": "execute_result"
    }
   ],
   "source": [
    "# average difficulty participating in social activiies by race\n",
    "groups = df.groupby([\"race\"])\n",
    "groups[\"soc_participation\"].mean()"
   ]
  },
  {
   "cell_type": "code",
   "execution_count": 62,
   "id": "0568ca09",
   "metadata": {},
   "outputs": [
    {
     "data": {
      "text/plain": [
       "race\n",
       "1.0    3.239680\n",
       "2.0    3.742424\n",
       "3.0    3.937500\n",
       "4.0    3.250000\n",
       "5.0    3.193548\n",
       "Name: anx_frequency, dtype: float64"
      ]
     },
     "execution_count": 62,
     "metadata": {},
     "output_type": "execute_result"
    }
   ],
   "source": [
    "# average frequency of anxiety by race\n",
    "groups[\"anx_frequency\"].mean()"
   ]
  },
  {
   "cell_type": "code",
   "execution_count": 63,
   "id": "4cae153c",
   "metadata": {},
   "outputs": [
    {
     "data": {
      "text/plain": [
       "race\n",
       "1.0    4.238349\n",
       "2.0    4.295455\n",
       "3.0    4.525000\n",
       "4.0    4.750000\n",
       "5.0    4.032258\n",
       "Name: dep_frequency, dtype: float64"
      ]
     },
     "execution_count": 63,
     "metadata": {},
     "output_type": "execute_result"
    }
   ],
   "source": [
    "# average frequency of depression by race\n",
    "groups[\"dep_frequency\"].mean()"
   ]
  },
  {
   "cell_type": "code",
   "execution_count": 64,
   "id": "9bc88c2b",
   "metadata": {},
   "outputs": [
    {
     "data": {
      "text/plain": [
       "1    1033\n",
       "2      38\n",
       "3      24\n",
       "4       3\n",
       "Name: soc_participation, dtype: int64"
      ]
     },
     "execution_count": 64,
     "metadata": {},
     "output_type": "execute_result"
    }
   ],
   "source": [
    "# frequency table of social participation\n",
    "df[\"soc_participation\"].value_counts()"
   ]
  },
  {
   "cell_type": "code",
   "execution_count": 65,
   "id": "fa2a3782",
   "metadata": {},
   "outputs": [
    {
     "data": {
      "text/plain": [
       "4.0    333\n",
       "5.0    280\n",
       "2.0    184\n",
       "3.0    151\n",
       "1.0    144\n",
       "Name: anx_frequency, dtype: int64"
      ]
     },
     "execution_count": 65,
     "metadata": {},
     "output_type": "execute_result"
    }
   ],
   "source": [
    "# frequency table of anxiety\n",
    "df[\"anx_frequency\"].value_counts()"
   ]
  },
  {
   "cell_type": "code",
   "execution_count": 66,
   "id": "5583da95",
   "metadata": {},
   "outputs": [
    {
     "data": {
      "text/plain": [
       "5.0    616\n",
       "4.0    285\n",
       "3.0     92\n",
       "2.0     65\n",
       "1.0     34\n",
       "Name: dep_frequency, dtype: int64"
      ]
     },
     "execution_count": 66,
     "metadata": {},
     "output_type": "execute_result"
    }
   ],
   "source": [
    "# frequency table of depression\n",
    "df[\"dep_frequency\"].value_counts()"
   ]
  },
  {
   "cell_type": "code",
   "execution_count": 67,
   "id": "9131dba6",
   "metadata": {},
   "outputs": [
    {
     "data": {
      "text/plain": [
       "<AxesSubplot: xlabel='survey_year'>"
      ]
     },
     "execution_count": 67,
     "metadata": {},
     "output_type": "execute_result"
    },
    {
     "data": {
      "image/png": "[encoded data removed]",
      "text/plain": [
       "<Figure size 504x432 with 1 Axes>"
      ]
     },
     "metadata": {
      "needs_background": "light"
     },
     "output_type": "display_data"
    }
   ],
   "source": [
    "# average difficulty participating in social activiies by year\n",
    "years = df.groupby([\"survey_year\"])\n",
    "years[\"soc_participation\"].mean()\n",
    "years[\"soc_participation\"].mean().plot(kind = \"line\", figsize = (7, 6))"
   ]
  },
  {
   "cell_type": "code",
   "execution_count": 68,
   "id": "f8a0c5fe",
   "metadata": {},
   "outputs": [
    {
     "data": {
      "text/plain": [
       "<AxesSubplot: xlabel='survey_year'>"
      ]
     },
     "execution_count": 68,
     "metadata": {},
     "output_type": "execute_result"
    },
    {
     "data": {
      "image/png": "[encoded data removed]",
      "text/plain": [
       "<Figure size 432x288 with 1 Axes>"
      ]
     },
     "metadata": {
      "needs_background": "light"
     },
     "output_type": "display_data"
    }
   ],
   "source": [
    "# average anxiety by year\n",
    "years[\"anx_frequency\"].mean()\n",
    "years[\"anx_frequency\"].mean().plot(kind = \"line\")"
   ]
  },
  {
   "cell_type": "code",
   "execution_count": 69,
   "id": "59b197ef",
   "metadata": {},
   "outputs": [
    {
     "data": {
      "text/plain": [
       "<AxesSubplot: xlabel='survey_year'>"
      ]
     },
     "execution_count": 69,
     "metadata": {},
     "output_type": "execute_result"
    },
    {
     "data": {
      "image/png": "[encoded data removed]",
      "text/plain": [
       "<Figure size 432x288 with 1 Axes>"
      ]
     },
     "metadata": {
      "needs_background": "light"
     },
     "output_type": "display_data"
    }
   ],
   "source": [
    "# average depression by year\n",
    "years[\"dep_frequency\"].mean()\n",
    "years[\"dep_frequency\"].mean().plot(kind = \"line\")"
   ]
  },
  {
   "cell_type": "code",
   "execution_count": 70,
   "id": "c53311c8",
   "metadata": {},
   "outputs": [
    {
     "name": "stdout",
     "output_type": "stream",
     "text": [
      "Requirement already satisfied: matplotlib in /home/jovyan/.local/lib/python3.8/site-packages (3.6.2)\n",
      "Requirement already satisfied: kiwisolver>=1.0.1 in /home/jovyan/.local/lib/python3.8/site-packages (from matplotlib) (1.4.4)\n",
      "Requirement already satisfied: pillow>=6.2.0 in /home/jovyan/.local/lib/python3.8/site-packages (from matplotlib) (9.3.0)\n",
      "Requirement already satisfied: pyparsing>=2.2.1 in /opt/conda/lib/python3.8/site-packages (from matplotlib) (2.4.7)\n",
      "Requirement already satisfied: contourpy>=1.0.1 in /home/jovyan/.local/lib/python3.8/site-packages (from matplotlib) (1.0.6)\n",
      "Requirement already satisfied: cycler>=0.10 in /home/jovyan/.local/lib/python3.8/site-packages (from matplotlib) (0.11.0)\n",
      "Requirement already satisfied: python-dateutil>=2.7 in /opt/conda/lib/python3.8/site-packages (from matplotlib) (2.8.1)\n",
      "Requirement already satisfied: packaging>=20.0 in /home/jovyan/.local/lib/python3.8/site-packages (from matplotlib) (21.3)\n",
      "Requirement already satisfied: numpy>=1.19 in /home/jovyan/.local/lib/python3.8/site-packages (from matplotlib) (1.22.2)\n",
      "Requirement already satisfied: fonttools>=4.22.0 in /home/jovyan/.local/lib/python3.8/site-packages (from matplotlib) (4.38.0)\n",
      "Requirement already satisfied: six>=1.5 in /opt/conda/lib/python3.8/site-packages (from python-dateutil>=2.7->matplotlib) (1.15.0)\n",
      "Note: you may need to restart the kernel to use updated packages.\n"
     ]
    },
    {
     "data": {
      "text/plain": [
       "[]"
      ]
     },
     "execution_count": 70,
     "metadata": {},
     "output_type": "execute_result"
    },
    {
     "data": {
      "image/png": "[encoded data removed]",
      "text/plain": [
       "<Figure size 432x288 with 1 Axes>"
      ]
     },
     "metadata": {
      "needs_background": "light"
     },
     "output_type": "display_data"
    }
   ],
   "source": [
    "# histogram of social participation\n",
    "%pip install matplotlib\n",
    "import matplotlib .pyplot as plt\n",
    "\n",
    "hist_soc = df[\"soc_participation\"].plot.hist()\n",
    "hist_soc.set_title(\"Histogram of Social Participation\")\n",
    "hist_soc.set_xlabel(\"Difficulty Participating in Social Activities on a Scale of 1-4\")\n",
    "plt.plot()"
   ]
  },
  {
   "cell_type": "code",
   "execution_count": 71,
   "id": "a8022bb9",
   "metadata": {},
   "outputs": [
    {
     "data": {
      "text/plain": [
       "[]"
      ]
     },
     "execution_count": 71,
     "metadata": {},
     "output_type": "execute_result"
    },
    {
     "data": {
      "image/png": "[encoded data removed]",
      "text/plain": [
       "<Figure size 432x288 with 1 Axes>"
      ]
     },
     "metadata": {
      "needs_background": "light"
     },
     "output_type": "display_data"
    }
   ],
   "source": [
    "# histogram of anxiety\n",
    "hist_anx = df[\"anx_frequency\"].plot.hist()\n",
    "hist_anx.set_title(\"Histogram of Anxiety\")\n",
    "hist_anx.set_xlabel(\"Frequency of Anxiety on a Scale of 1-5\")\n",
    "plt.plot()"
   ]
  },
  {
   "cell_type": "code",
   "execution_count": 72,
   "id": "96323c57",
   "metadata": {},
   "outputs": [
    {
     "data": {
      "text/plain": [
       "[]"
      ]
     },
     "execution_count": 72,
     "metadata": {},
     "output_type": "execute_result"
    },
    {
     "data": {
      "image/png": "[encoded data removed]",
      "text/plain": [
       "<Figure size 432x288 with 1 Axes>"
      ]
     },
     "metadata": {
      "needs_background": "light"
     },
     "output_type": "display_data"
    }
   ],
   "source": [
    "# histogram of depression\n",
    "hist_dep = df[\"dep_frequency\"].plot.hist()\n",
    "hist_dep.set_title(\"Histogram of Depression\")\n",
    "hist_dep.set_xlabel(\"Frequency of Depression on a Scale of 1-5\")\n",
    "plt.plot()"
   ]
  },
  {
   "cell_type": "code",
   "execution_count": 73,
   "id": "56acd921",
   "metadata": {},
   "outputs": [
    {
     "data": {
      "text/plain": [
       "Text(0, 0.5, 'Number of Participants')"
      ]
     },
     "execution_count": 73,
     "metadata": {},
     "output_type": "execute_result"
    },
    {
     "data": {
      "image/png": "[encoded data removed]",
      "text/plain": [
       "<Figure size 432x288 with 1 Axes>"
      ]
     },
     "metadata": {
      "needs_background": "light"
     },
     "output_type": "display_data"
    }
   ],
   "source": [
    "# bar chart for binary variable \"year\"\n",
    "df[\"survey_year\"].value_counts().plot(kind = \"bar\")\n",
    "plt.xlabel(\"Year\")\n",
    "plt.ylabel(\"Number of Participants\")"
   ]
  },
  {
   "cell_type": "code",
   "execution_count": 74,
   "id": "bf62a973",
   "metadata": {},
   "outputs": [
    {
     "data": {
      "text/plain": [
       "Text(0, 0.5, 'Number of Participants')"
      ]
     },
     "execution_count": 74,
     "metadata": {},
     "output_type": "execute_result"
    },
    {
     "data": {
      "image/png": "[encoded data removed]",
      "text/plain": [
       "<Figure size 432x288 with 1 Axes>"
      ]
     },
     "metadata": {
      "needs_background": "light"
     },
     "output_type": "display_data"
    }
   ],
   "source": [
    "# bar charts for binary variable \"sex_orient\" - 1 lgbtq+, 2 straight\n",
    "df[\"sex_orient\"].value_counts().plot(kind = \"bar\")\n",
    "plt.xlabel(\"Sexual Orientation\")\n",
    "plt.ylabel(\"Number of Participants\")"
   ]
  },
  {
   "cell_type": "code",
   "execution_count": 75,
   "id": "d57e8905",
   "metadata": {},
   "outputs": [
    {
     "data": {
      "text/plain": [
       "Text(0, 0.5, 'Number of Participants')"
      ]
     },
     "execution_count": 75,
     "metadata": {},
     "output_type": "execute_result"
    },
    {
     "data": {
      "image/png": "[encoded data removed]",
      "text/plain": [
       "<Figure size 432x288 with 1 Axes>"
      ]
     },
     "metadata": {
      "needs_background": "light"
     },
     "output_type": "display_data"
    }
   ],
   "source": [
    "# bar charts for binary variable \"marital_stat\" - 1 married, 2 single\n",
    "df[\"marital_stat\"].value_counts().plot(kind = \"bar\")\n",
    "plt.xlabel(\"Marital Status\")\n",
    "plt.ylabel(\"Number of Participants\")"
   ]
  },
  {
   "cell_type": "code",
   "execution_count": 76,
   "id": "ffbef1f5",
   "metadata": {},
   "outputs": [
    {
     "data": {
      "text/plain": [
       "Text(0, 0.5, 'Number of Participants')"
      ]
     },
     "execution_count": 76,
     "metadata": {},
     "output_type": "execute_result"
    },
    {
     "data": {
      "image/png": "[encoded data removed]",
      "text/plain": [
       "<Figure size 432x288 with 1 Axes>"
      ]
     },
     "metadata": {
      "needs_background": "light"
     },
     "output_type": "display_data"
    }
   ],
   "source": [
    "# bar charts for binary variable \"us_born\" - 1 us born, 2 not us born\n",
    "df[\"us_born\"].value_counts().plot(kind = \"bar\")\n",
    "plt.xlabel(\"US Born\")\n",
    "plt.ylabel(\"Number of Participants\")"
   ]
  },
  {
   "cell_type": "code",
   "execution_count": 77,
   "id": "95a550f5",
   "metadata": {},
   "outputs": [
    {
     "data": {
      "text/plain": [
       "Text(0, 0.5, 'Number of Participants')"
      ]
     },
     "execution_count": 77,
     "metadata": {},
     "output_type": "execute_result"
    },
    {
     "data": {
      "image/png": "[encoded data removed]",
      "text/plain": [
       "<Figure size 432x288 with 1 Axes>"
      ]
     },
     "metadata": {
      "needs_background": "light"
     },
     "output_type": "display_data"
    }
   ],
   "source": [
    "# bar charts for binary variable \"health_insur\" - 1 yes, 2 no health insurance\n",
    "df[\"health_insur\"].value_counts().plot(kind = \"bar\")\n",
    "plt.xlabel(\"Health Insurance\")\n",
    "plt.ylabel(\"Number of Participants\")"
   ]
  },
  {
   "cell_type": "code",
   "execution_count": 78,
   "id": "89c569a6",
   "metadata": {},
   "outputs": [
    {
     "data": {
      "text/plain": [
       "Text(0, 0.5, 'Number of Participants')"
      ]
     },
     "execution_count": 78,
     "metadata": {},
     "output_type": "execute_result"
    },
    {
     "data": {
      "image/png": "[encoded data removed]",
      "text/plain": [
       "<Figure size 432x288 with 1 Axes>"
      ]
     },
     "metadata": {
      "needs_background": "light"
     },
     "output_type": "display_data"
    }
   ],
   "source": [
    "# bar charts for binary variable \"med_care_12m\" - 1 got needed medical care, 2 did not get required medical care\n",
    "df[\"med_care_12m\"].value_counts().plot(kind = \"bar\")\n",
    "plt.xlabel(\"Medical Care\")\n",
    "plt.ylabel(\"Number of Participants\")"
   ]
  },
  {
   "cell_type": "code",
   "execution_count": 79,
   "id": "1169e56e",
   "metadata": {},
   "outputs": [
    {
     "data": {
      "text/plain": [
       "Text(0, 0.5, 'Number of Participants')"
      ]
     },
     "execution_count": 79,
     "metadata": {},
     "output_type": "execute_result"
    },
    {
     "data": {
      "image/png": "[encoded data removed]",
      "text/plain": [
       "<Figure size 432x288 with 1 Axes>"
      ]
     },
     "metadata": {
      "needs_background": "light"
     },
     "output_type": "display_data"
    }
   ],
   "source": [
    "# bar charts for binary variable \"pregnant_now\" - 1 currently pregnant, 2 not currently pregnant\n",
    "df[\"pregnant_now\"].value_counts().plot(kind = \"bar\")\n",
    "plt.xlabel(\"Pregnant Now\")\n",
    "plt.ylabel(\"Number of Participants\")"
   ]
  },
  {
   "cell_type": "code",
   "execution_count": 80,
   "id": "7a8fae03",
   "metadata": {},
   "outputs": [
    {
     "data": {
      "text/plain": [
       "Text(0, 0.5, 'Number of Participants')"
      ]
     },
     "execution_count": 80,
     "metadata": {},
     "output_type": "execute_result"
    },
    {
     "data": {
      "image/png": "[encoded data removed]",
      "text/plain": [
       "<Figure size 432x288 with 1 Axes>"
      ]
     },
     "metadata": {
      "needs_background": "light"
     },
     "output_type": "display_data"
    }
   ],
   "source": [
    "# bar charts for binary variable \"wic_benefits_12m\" - 1 received WIC benefis, 2 didn't receive WIC benefis\n",
    "df[\"wic_benefits_12m\"].value_counts().plot(kind = \"bar\")\n",
    "plt.xlabel(\"WIC Benefits\")\n",
    "plt.ylabel(\"Number of Participants\")"
   ]
  },
  {
   "cell_type": "code",
   "execution_count": 81,
   "id": "4e6ea0b0",
   "metadata": {},
   "outputs": [
    {
     "data": {
      "text/plain": [
       "Text(0, 0.5, 'Number of Participants')"
      ]
     },
     "execution_count": 81,
     "metadata": {},
     "output_type": "execute_result"
    },
    {
     "data": {
      "image/png": "[encoded data removed]",
      "text/plain": [
       "<Figure size 432x288 with 1 Axes>"
      ]
     },
     "metadata": {
      "needs_background": "light"
     },
     "output_type": "display_data"
    }
   ],
   "source": [
    "# bar charts for binary variable \"mh_care_12m\" - 1 received mh care, 2 didn't receive mh care\n",
    "df[\"mh_care_12m\"].value_counts().plot(kind = \"bar\")\n",
    "plt.xlabel(\"Mental Health Care\")\n",
    "plt.ylabel(\"Number of Participants\")"
   ]
  },
  {
   "cell_type": "code",
   "execution_count": 82,
   "id": "1f59c01a",
   "metadata": {},
   "outputs": [
    {
     "data": {
      "text/html": [
       "<div>\n",
       "<style scoped>\n",
       "    .dataframe tbody tr th:only-of-type {\n",
       "        vertical-align: middle;\n",
       "    }\n",
       "\n",
       "    .dataframe tbody tr th {\n",
       "        vertical-align: top;\n",
       "    }\n",
       "\n",
       "    .dataframe thead th {\n",
       "        text-align: right;\n",
       "    }\n",
       "</style>\n",
       "<table border=\"1\" class=\"dataframe\">\n",
       "  <thead>\n",
       "    <tr style=\"text-align: right;\">\n",
       "      <th></th>\n",
       "      <th>age</th>\n",
       "      <th>inc_pov_ratio</th>\n",
       "      <th>phys_health</th>\n",
       "      <th>bmi</th>\n",
       "      <th>food_security</th>\n",
       "      <th>region</th>\n",
       "      <th>education</th>\n",
       "      <th>race</th>\n",
       "    </tr>\n",
       "  </thead>\n",
       "  <tbody>\n",
       "    <tr>\n",
       "      <th>count</th>\n",
       "      <td>1097.000000</td>\n",
       "      <td>1098.000000</td>\n",
       "      <td>1098.000000</td>\n",
       "      <td>1064.000000</td>\n",
       "      <td>1069.000000</td>\n",
       "      <td>1098.000000</td>\n",
       "      <td>1096.000000</td>\n",
       "      <td>1004.000000</td>\n",
       "    </tr>\n",
       "    <tr>\n",
       "      <th>mean</th>\n",
       "      <td>31.173200</td>\n",
       "      <td>8.595628</td>\n",
       "      <td>1.972678</td>\n",
       "      <td>2.907895</td>\n",
       "      <td>1.144995</td>\n",
       "      <td>2.705829</td>\n",
       "      <td>6.267336</td>\n",
       "      <td>1.426295</td>\n",
       "    </tr>\n",
       "    <tr>\n",
       "      <th>std</th>\n",
       "      <td>5.537455</td>\n",
       "      <td>4.435136</td>\n",
       "      <td>0.910378</td>\n",
       "      <td>0.854942</td>\n",
       "      <td>0.464595</td>\n",
       "      <td>1.007711</td>\n",
       "      <td>2.464111</td>\n",
       "      <td>0.893951</td>\n",
       "    </tr>\n",
       "    <tr>\n",
       "      <th>min</th>\n",
       "      <td>18.000000</td>\n",
       "      <td>1.000000</td>\n",
       "      <td>1.000000</td>\n",
       "      <td>1.000000</td>\n",
       "      <td>1.000000</td>\n",
       "      <td>1.000000</td>\n",
       "      <td>0.000000</td>\n",
       "      <td>1.000000</td>\n",
       "    </tr>\n",
       "    <tr>\n",
       "      <th>25%</th>\n",
       "      <td>27.000000</td>\n",
       "      <td>5.000000</td>\n",
       "      <td>1.000000</td>\n",
       "      <td>2.000000</td>\n",
       "      <td>1.000000</td>\n",
       "      <td>2.000000</td>\n",
       "      <td>4.000000</td>\n",
       "      <td>1.000000</td>\n",
       "    </tr>\n",
       "    <tr>\n",
       "      <th>50%</th>\n",
       "      <td>31.000000</td>\n",
       "      <td>9.000000</td>\n",
       "      <td>2.000000</td>\n",
       "      <td>3.000000</td>\n",
       "      <td>1.000000</td>\n",
       "      <td>3.000000</td>\n",
       "      <td>7.000000</td>\n",
       "      <td>1.000000</td>\n",
       "    </tr>\n",
       "    <tr>\n",
       "      <th>75%</th>\n",
       "      <td>35.000000</td>\n",
       "      <td>13.000000</td>\n",
       "      <td>3.000000</td>\n",
       "      <td>4.000000</td>\n",
       "      <td>1.000000</td>\n",
       "      <td>3.000000</td>\n",
       "      <td>8.000000</td>\n",
       "      <td>1.000000</td>\n",
       "    </tr>\n",
       "    <tr>\n",
       "      <th>max</th>\n",
       "      <td>49.000000</td>\n",
       "      <td>14.000000</td>\n",
       "      <td>5.000000</td>\n",
       "      <td>4.000000</td>\n",
       "      <td>3.000000</td>\n",
       "      <td>4.000000</td>\n",
       "      <td>10.000000</td>\n",
       "      <td>5.000000</td>\n",
       "    </tr>\n",
       "  </tbody>\n",
       "</table>\n",
       "</div>"
      ],
      "text/plain": [
       "               age  inc_pov_ratio  phys_health          bmi  food_security  \\\n",
       "count  1097.000000    1098.000000  1098.000000  1064.000000    1069.000000   \n",
       "mean     31.173200       8.595628     1.972678     2.907895       1.144995   \n",
       "std       5.537455       4.435136     0.910378     0.854942       0.464595   \n",
       "min      18.000000       1.000000     1.000000     1.000000       1.000000   \n",
       "25%      27.000000       5.000000     1.000000     2.000000       1.000000   \n",
       "50%      31.000000       9.000000     2.000000     3.000000       1.000000   \n",
       "75%      35.000000      13.000000     3.000000     4.000000       1.000000   \n",
       "max      49.000000      14.000000     5.000000     4.000000       3.000000   \n",
       "\n",
       "            region    education         race  \n",
       "count  1098.000000  1096.000000  1004.000000  \n",
       "mean      2.705829     6.267336     1.426295  \n",
       "std       1.007711     2.464111     0.893951  \n",
       "min       1.000000     0.000000     1.000000  \n",
       "25%       2.000000     4.000000     1.000000  \n",
       "50%       3.000000     7.000000     1.000000  \n",
       "75%       3.000000     8.000000     1.000000  \n",
       "max       4.000000    10.000000     5.000000  "
      ]
     },
     "execution_count": 82,
     "metadata": {},
     "output_type": "execute_result"
    }
   ],
   "source": [
    "# summary stats of non-binary variables\n",
    "df[[\"age\", \"inc_pov_ratio\", \"phys_health\", \"bmi\", \"food_security\", \"region\", \"education\", \"race\"]].describe()"
   ]
  },
  {
   "cell_type": "code",
   "execution_count": 83,
   "id": "f374fa64",
   "metadata": {},
   "outputs": [
    {
     "data": {
      "text/plain": [
       "<AxesSubplot: ylabel='Frequency'>"
      ]
     },
     "execution_count": 83,
     "metadata": {},
     "output_type": "execute_result"
    },
    {
     "data": {
      "image/png": "[encoded data removed]",
      "text/plain": [
       "<Figure size 432x288 with 1 Axes>"
      ]
     },
     "metadata": {
      "needs_background": "light"
     },
     "output_type": "display_data"
    }
   ],
   "source": [
    "# histogram of non-binary variable \"age\"\n",
    "df[\"age\"].plot(kind = \"hist\")"
   ]
  },
  {
   "cell_type": "code",
   "execution_count": 84,
   "id": "6b62b86c",
   "metadata": {},
   "outputs": [
    {
     "data": {
      "text/plain": [
       "<AxesSubplot: ylabel='Frequency'>"
      ]
     },
     "execution_count": 84,
     "metadata": {},
     "output_type": "execute_result"
    },
    {
     "data": {
      "image/png": "[encoded data removed]",
      "text/plain": [
       "<Figure size 432x288 with 1 Axes>"
      ]
     },
     "metadata": {
      "needs_background": "light"
     },
     "output_type": "display_data"
    }
   ],
   "source": [
    "# histogram of non-binary variable \"inc_pov_ratio\" - higher # is richer\n",
    "df[\"inc_pov_ratio\"].plot(kind = \"hist\")"
   ]
  },
  {
   "cell_type": "code",
   "execution_count": 85,
   "id": "d417e3a5",
   "metadata": {},
   "outputs": [
    {
     "data": {
      "text/plain": [
       "<AxesSubplot: ylabel='Frequency'>"
      ]
     },
     "execution_count": 85,
     "metadata": {},
     "output_type": "execute_result"
    },
    {
     "data": {
      "image/png": "[encoded data removed]",
      "text/plain": [
       "<Figure size 432x288 with 1 Axes>"
      ]
     },
     "metadata": {
      "needs_background": "light"
     },
     "output_type": "display_data"
    }
   ],
   "source": [
    "# histogram of non-binary variable \"phys_health\" - 1 excellent, 5 poor\n",
    "df[\"phys_health\"].plot(kind = \"hist\")"
   ]
  },
  {
   "cell_type": "code",
   "execution_count": 86,
   "id": "14285af4",
   "metadata": {},
   "outputs": [
    {
     "data": {
      "text/plain": [
       "<AxesSubplot: ylabel='Frequency'>"
      ]
     },
     "execution_count": 86,
     "metadata": {},
     "output_type": "execute_result"
    },
    {
     "data": {
      "image/png": "[encoded data removed]",
      "text/plain": [
       "<Figure size 432x288 with 1 Axes>"
      ]
     },
     "metadata": {
      "needs_background": "light"
     },
     "output_type": "display_data"
    }
   ],
   "source": [
    "# histogram of non-binary variable \"bmi\" - 1 underweight, 4 obese\n",
    "df[\"bmi\"].plot(kind = \"hist\")"
   ]
  },
  {
   "cell_type": "code",
   "execution_count": 87,
   "id": "8d9086d8",
   "metadata": {},
   "outputs": [
    {
     "data": {
      "text/plain": [
       "<AxesSubplot: ylabel='Frequency'>"
      ]
     },
     "execution_count": 87,
     "metadata": {},
     "output_type": "execute_result"
    },
    {
     "data": {
      "image/png": "[encoded data removed]",
      "text/plain": [
       "<Figure size 432x288 with 1 Axes>"
      ]
     },
     "metadata": {
      "needs_background": "light"
     },
     "output_type": "display_data"
    }
   ],
   "source": [
    "# histogram of non-binary variable \"food_security\" - 1 food secure, 3 very low food security\n",
    "df[\"food_security\"].plot(kind = \"hist\")"
   ]
  },
  {
   "cell_type": "code",
   "execution_count": 88,
   "id": "e1e5f5cf",
   "metadata": {
    "scrolled": true
   },
   "outputs": [
    {
     "data": {
      "text/plain": [
       "<AxesSubplot: ylabel='Frequency'>"
      ]
     },
     "execution_count": 88,
     "metadata": {},
     "output_type": "execute_result"
    },
    {
     "data": {
      "image/png": "[encoded data removed]",
      "text/plain": [
       "<Figure size 432x288 with 1 Axes>"
      ]
     },
     "metadata": {
      "needs_background": "light"
     },
     "output_type": "display_data"
    }
   ],
   "source": [
    "# histogram of non-binary variable \"region\" - 1 NE, 2 ME, 3 S, 4 W\n",
    "df[\"region\"].plot(kind = \"hist\")"
   ]
  },
  {
   "cell_type": "code",
   "execution_count": 89,
   "id": "fa00119d",
   "metadata": {},
   "outputs": [
    {
     "data": {
      "text/plain": [
       "<AxesSubplot: ylabel='Frequency'>"
      ]
     },
     "execution_count": 89,
     "metadata": {},
     "output_type": "execute_result"
    },
    {
     "data": {
      "image/png": "[encoded data removed]",
      "text/plain": [
       "<Figure size 432x288 with 1 Axes>"
      ]
     },
     "metadata": {
      "needs_background": "light"
     },
     "output_type": "display_data"
    }
   ],
   "source": [
    "# histogram of non-binary variable \"education\" - 0 never attended/KG only, 10 professional school or doctoral degree\n",
    "df[\"education\"].plot(kind = \"hist\")"
   ]
  },
  {
   "cell_type": "code",
   "execution_count": 90,
   "id": "e4fc598f",
   "metadata": {},
   "outputs": [
    {
     "data": {
      "text/plain": [
       "<AxesSubplot: ylabel='Frequency'>"
      ]
     },
     "execution_count": 90,
     "metadata": {},
     "output_type": "execute_result"
    },
    {
     "data": {
      "image/png": "[encoded data removed]",
      "text/plain": [
       "<Figure size 432x288 with 1 Axes>"
      ]
     },
     "metadata": {
      "needs_background": "light"
     },
     "output_type": "display_data"
    }
   ],
   "source": [
    "# histogram of non-binary variable \"race\" - 1 white, 2 black, 3 asian, 4 aian, 5 other\n",
    "df[\"race\"].plot(kind = \"hist\")"
   ]
  },
  {
   "cell_type": "code",
   "execution_count": 91,
   "id": "b5e5cacc",
   "metadata": {},
   "outputs": [
    {
     "data": {
      "text/html": [
       "<div>\n",
       "<style scoped>\n",
       "    .dataframe tbody tr th:only-of-type {\n",
       "        vertical-align: middle;\n",
       "    }\n",
       "\n",
       "    .dataframe tbody tr th {\n",
       "        vertical-align: top;\n",
       "    }\n",
       "\n",
       "    .dataframe thead th {\n",
       "        text-align: right;\n",
       "    }\n",
       "</style>\n",
       "<table border=\"1\" class=\"dataframe\">\n",
       "  <thead>\n",
       "    <tr style=\"text-align: right;\">\n",
       "      <th></th>\n",
       "      <th>survey_year</th>\n",
       "      <th>region</th>\n",
       "      <th>age</th>\n",
       "      <th>education</th>\n",
       "      <th>race</th>\n",
       "      <th>sex_orient</th>\n",
       "      <th>marital_stat</th>\n",
       "      <th>inc_pov_ratio</th>\n",
       "      <th>us_born</th>\n",
       "      <th>food_security</th>\n",
       "      <th>wic_benefits_12m</th>\n",
       "      <th>phys_health</th>\n",
       "      <th>bmi</th>\n",
       "      <th>health_insur</th>\n",
       "      <th>med_care_12m</th>\n",
       "      <th>pregnant_now</th>\n",
       "      <th>soc_participation</th>\n",
       "      <th>anx_frequency</th>\n",
       "      <th>dep_frequency</th>\n",
       "      <th>mh_care_12m</th>\n",
       "    </tr>\n",
       "  </thead>\n",
       "  <tbody>\n",
       "    <tr>\n",
       "      <th>survey_year</th>\n",
       "      <td>1.000000</td>\n",
       "      <td>-0.024600</td>\n",
       "      <td>0.008594</td>\n",
       "      <td>-0.026545</td>\n",
       "      <td>0.031482</td>\n",
       "      <td>-0.052554</td>\n",
       "      <td>0.028871</td>\n",
       "      <td>0.047393</td>\n",
       "      <td>0.006237</td>\n",
       "      <td>-0.079376</td>\n",
       "      <td>0.029451</td>\n",
       "      <td>-0.005413</td>\n",
       "      <td>0.043442</td>\n",
       "      <td>-0.025060</td>\n",
       "      <td>0.064675</td>\n",
       "      <td>-0.023566</td>\n",
       "      <td>0.008694</td>\n",
       "      <td>-0.055337</td>\n",
       "      <td>-0.032481</td>\n",
       "      <td>-0.009999</td>\n",
       "    </tr>\n",
       "    <tr>\n",
       "      <th>region</th>\n",
       "      <td>-0.024600</td>\n",
       "      <td>1.000000</td>\n",
       "      <td>-0.042540</td>\n",
       "      <td>-0.055469</td>\n",
       "      <td>0.105798</td>\n",
       "      <td>0.004124</td>\n",
       "      <td>0.026240</td>\n",
       "      <td>-0.079058</td>\n",
       "      <td>0.022394</td>\n",
       "      <td>-0.041168</td>\n",
       "      <td>-0.046760</td>\n",
       "      <td>0.054825</td>\n",
       "      <td>-0.001592</td>\n",
       "      <td>0.031765</td>\n",
       "      <td>-0.017199</td>\n",
       "      <td>-0.008783</td>\n",
       "      <td>-0.002554</td>\n",
       "      <td>0.041998</td>\n",
       "      <td>0.030867</td>\n",
       "      <td>0.045677</td>\n",
       "    </tr>\n",
       "    <tr>\n",
       "      <th>age</th>\n",
       "      <td>0.008594</td>\n",
       "      <td>-0.042540</td>\n",
       "      <td>1.000000</td>\n",
       "      <td>0.346523</td>\n",
       "      <td>0.063914</td>\n",
       "      <td>0.085391</td>\n",
       "      <td>-0.242966</td>\n",
       "      <td>0.314467</td>\n",
       "      <td>0.129861</td>\n",
       "      <td>-0.151255</td>\n",
       "      <td>0.322844</td>\n",
       "      <td>-0.047951</td>\n",
       "      <td>-0.049664</td>\n",
       "      <td>-0.085740</td>\n",
       "      <td>0.029429</td>\n",
       "      <td>0.076767</td>\n",
       "      <td>-0.088025</td>\n",
       "      <td>0.072177</td>\n",
       "      <td>0.111097</td>\n",
       "      <td>-0.010751</td>\n",
       "    </tr>\n",
       "    <tr>\n",
       "      <th>education</th>\n",
       "      <td>-0.026545</td>\n",
       "      <td>-0.055469</td>\n",
       "      <td>0.346523</td>\n",
       "      <td>1.000000</td>\n",
       "      <td>0.018794</td>\n",
       "      <td>0.100575</td>\n",
       "      <td>-0.464905</td>\n",
       "      <td>0.672945</td>\n",
       "      <td>-0.087093</td>\n",
       "      <td>-0.265454</td>\n",
       "      <td>0.470852</td>\n",
       "      <td>-0.326387</td>\n",
       "      <td>-0.225722</td>\n",
       "      <td>-0.269600</td>\n",
       "      <td>0.189453</td>\n",
       "      <td>0.067404</td>\n",
       "      <td>-0.167091</td>\n",
       "      <td>-0.007003</td>\n",
       "      <td>0.164704</td>\n",
       "      <td>0.020323</td>\n",
       "    </tr>\n",
       "    <tr>\n",
       "      <th>race</th>\n",
       "      <td>0.031482</td>\n",
       "      <td>0.105798</td>\n",
       "      <td>0.063914</td>\n",
       "      <td>0.018794</td>\n",
       "      <td>1.000000</td>\n",
       "      <td>0.009401</td>\n",
       "      <td>0.096041</td>\n",
       "      <td>-0.079610</td>\n",
       "      <td>0.285357</td>\n",
       "      <td>-0.020121</td>\n",
       "      <td>-0.112591</td>\n",
       "      <td>0.062850</td>\n",
       "      <td>-0.008791</td>\n",
       "      <td>-0.054089</td>\n",
       "      <td>0.002717</td>\n",
       "      <td>-0.024131</td>\n",
       "      <td>-0.014689</td>\n",
       "      <td>0.098264</td>\n",
       "      <td>0.024321</td>\n",
       "      <td>0.071692</td>\n",
       "    </tr>\n",
       "    <tr>\n",
       "      <th>sex_orient</th>\n",
       "      <td>-0.052554</td>\n",
       "      <td>0.004124</td>\n",
       "      <td>0.085391</td>\n",
       "      <td>0.100575</td>\n",
       "      <td>0.009401</td>\n",
       "      <td>1.000000</td>\n",
       "      <td>-0.075639</td>\n",
       "      <td>0.061810</td>\n",
       "      <td>0.024639</td>\n",
       "      <td>-0.142761</td>\n",
       "      <td>0.085096</td>\n",
       "      <td>-0.119684</td>\n",
       "      <td>-0.034357</td>\n",
       "      <td>-0.010856</td>\n",
       "      <td>0.101723</td>\n",
       "      <td>0.013961</td>\n",
       "      <td>-0.151637</td>\n",
       "      <td>0.094845</td>\n",
       "      <td>0.155709</td>\n",
       "      <td>0.123079</td>\n",
       "    </tr>\n",
       "    <tr>\n",
       "      <th>marital_stat</th>\n",
       "      <td>0.028871</td>\n",
       "      <td>0.026240</td>\n",
       "      <td>-0.242966</td>\n",
       "      <td>-0.464905</td>\n",
       "      <td>0.096041</td>\n",
       "      <td>-0.075639</td>\n",
       "      <td>1.000000</td>\n",
       "      <td>-0.507895</td>\n",
       "      <td>-0.046905</td>\n",
       "      <td>0.233081</td>\n",
       "      <td>-0.465087</td>\n",
       "      <td>0.255974</td>\n",
       "      <td>0.135115</td>\n",
       "      <td>0.080319</td>\n",
       "      <td>-0.118550</td>\n",
       "      <td>-0.012979</td>\n",
       "      <td>0.126095</td>\n",
       "      <td>0.005761</td>\n",
       "      <td>-0.126277</td>\n",
       "      <td>-0.008473</td>\n",
       "    </tr>\n",
       "    <tr>\n",
       "      <th>inc_pov_ratio</th>\n",
       "      <td>0.047393</td>\n",
       "      <td>-0.079058</td>\n",
       "      <td>0.314467</td>\n",
       "      <td>0.672945</td>\n",
       "      <td>-0.079610</td>\n",
       "      <td>0.061810</td>\n",
       "      <td>-0.507895</td>\n",
       "      <td>1.000000</td>\n",
       "      <td>-0.070852</td>\n",
       "      <td>-0.302508</td>\n",
       "      <td>0.604318</td>\n",
       "      <td>-0.355842</td>\n",
       "      <td>-0.243447</td>\n",
       "      <td>-0.268233</td>\n",
       "      <td>0.187718</td>\n",
       "      <td>0.064867</td>\n",
       "      <td>-0.150677</td>\n",
       "      <td>-0.000691</td>\n",
       "      <td>0.186663</td>\n",
       "      <td>0.020323</td>\n",
       "    </tr>\n",
       "    <tr>\n",
       "      <th>us_born</th>\n",
       "      <td>0.006237</td>\n",
       "      <td>0.022394</td>\n",
       "      <td>0.129861</td>\n",
       "      <td>-0.087093</td>\n",
       "      <td>0.285357</td>\n",
       "      <td>0.024639</td>\n",
       "      <td>-0.046905</td>\n",
       "      <td>-0.070852</td>\n",
       "      <td>1.000000</td>\n",
       "      <td>0.006758</td>\n",
       "      <td>-0.043678</td>\n",
       "      <td>0.027707</td>\n",
       "      <td>-0.103664</td>\n",
       "      <td>0.213176</td>\n",
       "      <td>-0.052694</td>\n",
       "      <td>0.057463</td>\n",
       "      <td>-0.076265</td>\n",
       "      <td>0.177038</td>\n",
       "      <td>0.106074</td>\n",
       "      <td>0.061263</td>\n",
       "    </tr>\n",
       "    <tr>\n",
       "      <th>food_security</th>\n",
       "      <td>-0.079376</td>\n",
       "      <td>-0.041168</td>\n",
       "      <td>-0.151255</td>\n",
       "      <td>-0.265454</td>\n",
       "      <td>-0.020121</td>\n",
       "      <td>-0.142761</td>\n",
       "      <td>0.233081</td>\n",
       "      <td>-0.302508</td>\n",
       "      <td>0.006758</td>\n",
       "      <td>1.000000</td>\n",
       "      <td>-0.246726</td>\n",
       "      <td>0.288405</td>\n",
       "      <td>0.107764</td>\n",
       "      <td>0.109252</td>\n",
       "      <td>-0.301887</td>\n",
       "      <td>-0.090052</td>\n",
       "      <td>0.226549</td>\n",
       "      <td>-0.155160</td>\n",
       "      <td>-0.219700</td>\n",
       "      <td>-0.042886</td>\n",
       "    </tr>\n",
       "    <tr>\n",
       "      <th>wic_benefits_12m</th>\n",
       "      <td>0.029451</td>\n",
       "      <td>-0.046760</td>\n",
       "      <td>0.322844</td>\n",
       "      <td>0.470852</td>\n",
       "      <td>-0.112591</td>\n",
       "      <td>0.085096</td>\n",
       "      <td>-0.465087</td>\n",
       "      <td>0.604318</td>\n",
       "      <td>-0.043678</td>\n",
       "      <td>-0.246726</td>\n",
       "      <td>1.000000</td>\n",
       "      <td>-0.275206</td>\n",
       "      <td>-0.159470</td>\n",
       "      <td>-0.144291</td>\n",
       "      <td>0.096949</td>\n",
       "      <td>0.032533</td>\n",
       "      <td>-0.160552</td>\n",
       "      <td>0.028897</td>\n",
       "      <td>0.190071</td>\n",
       "      <td>0.025163</td>\n",
       "    </tr>\n",
       "    <tr>\n",
       "      <th>phys_health</th>\n",
       "      <td>-0.005413</td>\n",
       "      <td>0.054825</td>\n",
       "      <td>-0.047951</td>\n",
       "      <td>-0.326387</td>\n",
       "      <td>0.062850</td>\n",
       "      <td>-0.119684</td>\n",
       "      <td>0.255974</td>\n",
       "      <td>-0.355842</td>\n",
       "      <td>0.027707</td>\n",
       "      <td>0.288405</td>\n",
       "      <td>-0.275206</td>\n",
       "      <td>1.000000</td>\n",
       "      <td>0.278410</td>\n",
       "      <td>0.103554</td>\n",
       "      <td>-0.159775</td>\n",
       "      <td>-0.058259</td>\n",
       "      <td>0.218931</td>\n",
       "      <td>-0.188808</td>\n",
       "      <td>-0.272680</td>\n",
       "      <td>-0.078579</td>\n",
       "    </tr>\n",
       "    <tr>\n",
       "      <th>bmi</th>\n",
       "      <td>0.043442</td>\n",
       "      <td>-0.001592</td>\n",
       "      <td>-0.049664</td>\n",
       "      <td>-0.225722</td>\n",
       "      <td>-0.008791</td>\n",
       "      <td>-0.034357</td>\n",
       "      <td>0.135115</td>\n",
       "      <td>-0.243447</td>\n",
       "      <td>-0.103664</td>\n",
       "      <td>0.107764</td>\n",
       "      <td>-0.159470</td>\n",
       "      <td>0.278410</td>\n",
       "      <td>1.000000</td>\n",
       "      <td>0.075915</td>\n",
       "      <td>-0.116612</td>\n",
       "      <td>0.001745</td>\n",
       "      <td>0.042848</td>\n",
       "      <td>-0.039679</td>\n",
       "      <td>-0.131245</td>\n",
       "      <td>-0.089843</td>\n",
       "    </tr>\n",
       "    <tr>\n",
       "      <th>health_insur</th>\n",
       "      <td>-0.025060</td>\n",
       "      <td>0.031765</td>\n",
       "      <td>-0.085740</td>\n",
       "      <td>-0.269600</td>\n",
       "      <td>-0.054089</td>\n",
       "      <td>-0.010856</td>\n",
       "      <td>0.080319</td>\n",
       "      <td>-0.268233</td>\n",
       "      <td>0.213176</td>\n",
       "      <td>0.109252</td>\n",
       "      <td>-0.144291</td>\n",
       "      <td>0.103554</td>\n",
       "      <td>0.075915</td>\n",
       "      <td>1.000000</td>\n",
       "      <td>-0.219717</td>\n",
       "      <td>0.018269</td>\n",
       "      <td>0.063312</td>\n",
       "      <td>0.025132</td>\n",
       "      <td>0.001534</td>\n",
       "      <td>0.030329</td>\n",
       "    </tr>\n",
       "    <tr>\n",
       "      <th>med_care_12m</th>\n",
       "      <td>0.064675</td>\n",
       "      <td>-0.017199</td>\n",
       "      <td>0.029429</td>\n",
       "      <td>0.189453</td>\n",
       "      <td>0.002717</td>\n",
       "      <td>0.101723</td>\n",
       "      <td>-0.118550</td>\n",
       "      <td>0.187718</td>\n",
       "      <td>-0.052694</td>\n",
       "      <td>-0.301887</td>\n",
       "      <td>0.096949</td>\n",
       "      <td>-0.159775</td>\n",
       "      <td>-0.116612</td>\n",
       "      <td>-0.219717</td>\n",
       "      <td>1.000000</td>\n",
       "      <td>0.080301</td>\n",
       "      <td>-0.093467</td>\n",
       "      <td>0.078510</td>\n",
       "      <td>0.152448</td>\n",
       "      <td>0.022643</td>\n",
       "    </tr>\n",
       "    <tr>\n",
       "      <th>pregnant_now</th>\n",
       "      <td>-0.023566</td>\n",
       "      <td>-0.008783</td>\n",
       "      <td>0.076767</td>\n",
       "      <td>0.067404</td>\n",
       "      <td>-0.024131</td>\n",
       "      <td>0.013961</td>\n",
       "      <td>-0.012979</td>\n",
       "      <td>0.064867</td>\n",
       "      <td>0.057463</td>\n",
       "      <td>-0.090052</td>\n",
       "      <td>0.032533</td>\n",
       "      <td>-0.058259</td>\n",
       "      <td>0.001745</td>\n",
       "      <td>0.018269</td>\n",
       "      <td>0.080301</td>\n",
       "      <td>1.000000</td>\n",
       "      <td>-0.002034</td>\n",
       "      <td>0.002985</td>\n",
       "      <td>-0.001012</td>\n",
       "      <td>-0.037913</td>\n",
       "    </tr>\n",
       "    <tr>\n",
       "      <th>soc_participation</th>\n",
       "      <td>0.008694</td>\n",
       "      <td>-0.002554</td>\n",
       "      <td>-0.088025</td>\n",
       "      <td>-0.167091</td>\n",
       "      <td>-0.014689</td>\n",
       "      <td>-0.151637</td>\n",
       "      <td>0.126095</td>\n",
       "      <td>-0.150677</td>\n",
       "      <td>-0.076265</td>\n",
       "      <td>0.226549</td>\n",
       "      <td>-0.160552</td>\n",
       "      <td>0.218931</td>\n",
       "      <td>0.042848</td>\n",
       "      <td>0.063312</td>\n",
       "      <td>-0.093467</td>\n",
       "      <td>-0.002034</td>\n",
       "      <td>1.000000</td>\n",
       "      <td>-0.295942</td>\n",
       "      <td>-0.330855</td>\n",
       "      <td>-0.232443</td>\n",
       "    </tr>\n",
       "    <tr>\n",
       "      <th>anx_frequency</th>\n",
       "      <td>-0.055337</td>\n",
       "      <td>0.041998</td>\n",
       "      <td>0.072177</td>\n",
       "      <td>-0.007003</td>\n",
       "      <td>0.098264</td>\n",
       "      <td>0.094845</td>\n",
       "      <td>0.005761</td>\n",
       "      <td>-0.000691</td>\n",
       "      <td>0.177038</td>\n",
       "      <td>-0.155160</td>\n",
       "      <td>0.028897</td>\n",
       "      <td>-0.188808</td>\n",
       "      <td>-0.039679</td>\n",
       "      <td>0.025132</td>\n",
       "      <td>0.078510</td>\n",
       "      <td>0.002985</td>\n",
       "      <td>-0.295942</td>\n",
       "      <td>1.000000</td>\n",
       "      <td>0.568586</td>\n",
       "      <td>0.304913</td>\n",
       "    </tr>\n",
       "    <tr>\n",
       "      <th>dep_frequency</th>\n",
       "      <td>-0.032481</td>\n",
       "      <td>0.030867</td>\n",
       "      <td>0.111097</td>\n",
       "      <td>0.164704</td>\n",
       "      <td>0.024321</td>\n",
       "      <td>0.155709</td>\n",
       "      <td>-0.126277</td>\n",
       "      <td>0.186663</td>\n",
       "      <td>0.106074</td>\n",
       "      <td>-0.219700</td>\n",
       "      <td>0.190071</td>\n",
       "      <td>-0.272680</td>\n",
       "      <td>-0.131245</td>\n",
       "      <td>0.001534</td>\n",
       "      <td>0.152448</td>\n",
       "      <td>-0.001012</td>\n",
       "      <td>-0.330855</td>\n",
       "      <td>0.568586</td>\n",
       "      <td>1.000000</td>\n",
       "      <td>0.388357</td>\n",
       "    </tr>\n",
       "    <tr>\n",
       "      <th>mh_care_12m</th>\n",
       "      <td>-0.009999</td>\n",
       "      <td>0.045677</td>\n",
       "      <td>-0.010751</td>\n",
       "      <td>0.020323</td>\n",
       "      <td>0.071692</td>\n",
       "      <td>0.123079</td>\n",
       "      <td>-0.008473</td>\n",
       "      <td>0.020323</td>\n",
       "      <td>0.061263</td>\n",
       "      <td>-0.042886</td>\n",
       "      <td>0.025163</td>\n",
       "      <td>-0.078579</td>\n",
       "      <td>-0.089843</td>\n",
       "      <td>0.030329</td>\n",
       "      <td>0.022643</td>\n",
       "      <td>-0.037913</td>\n",
       "      <td>-0.232443</td>\n",
       "      <td>0.304913</td>\n",
       "      <td>0.388357</td>\n",
       "      <td>1.000000</td>\n",
       "    </tr>\n",
       "  </tbody>\n",
       "</table>\n",
       "</div>"
      ],
      "text/plain": [
       "                   survey_year    region       age  education      race  \\\n",
       "survey_year           1.000000 -0.024600  0.008594  -0.026545  0.031482   \n",
       "region               -0.024600  1.000000 -0.042540  -0.055469  0.105798   \n",
       "age                   0.008594 -0.042540  1.000000   0.346523  0.063914   \n",
       "education            -0.026545 -0.055469  0.346523   1.000000  0.018794   \n",
       "race                  0.031482  0.105798  0.063914   0.018794  1.000000   \n",
       "sex_orient           -0.052554  0.004124  0.085391   0.100575  0.009401   \n",
       "marital_stat          0.028871  0.026240 -0.242966  -0.464905  0.096041   \n",
       "inc_pov_ratio         0.047393 -0.079058  0.314467   0.672945 -0.079610   \n",
       "us_born               0.006237  0.022394  0.129861  -0.087093  0.285357   \n",
       "food_security        -0.079376 -0.041168 -0.151255  -0.265454 -0.020121   \n",
       "wic_benefits_12m      0.029451 -0.046760  0.322844   0.470852 -0.112591   \n",
       "phys_health          -0.005413  0.054825 -0.047951  -0.326387  0.062850   \n",
       "bmi                   0.043442 -0.001592 -0.049664  -0.225722 -0.008791   \n",
       "health_insur         -0.025060  0.031765 -0.085740  -0.269600 -0.054089   \n",
       "med_care_12m          0.064675 -0.017199  0.029429   0.189453  0.002717   \n",
       "pregnant_now         -0.023566 -0.008783  0.076767   0.067404 -0.024131   \n",
       "soc_participation     0.008694 -0.002554 -0.088025  -0.167091 -0.014689   \n",
       "anx_frequency        -0.055337  0.041998  0.072177  -0.007003  0.098264   \n",
       "dep_frequency        -0.032481  0.030867  0.111097   0.164704  0.024321   \n",
       "mh_care_12m          -0.009999  0.045677 -0.010751   0.020323  0.071692   \n",
       "\n",
       "                   sex_orient  marital_stat  inc_pov_ratio   us_born  \\\n",
       "survey_year         -0.052554      0.028871       0.047393  0.006237   \n",
       "region               0.004124      0.026240      -0.079058  0.022394   \n",
       "age                  0.085391     -0.242966       0.314467  0.129861   \n",
       "education            0.100575     -0.464905       0.672945 -0.087093   \n",
       "race                 0.009401      0.096041      -0.079610  0.285357   \n",
       "sex_orient           1.000000     -0.075639       0.061810  0.024639   \n",
       "marital_stat        -0.075639      1.000000      -0.507895 -0.046905   \n",
       "inc_pov_ratio        0.061810     -0.507895       1.000000 -0.070852   \n",
       "us_born              0.024639     -0.046905      -0.070852  1.000000   \n",
       "food_security       -0.142761      0.233081      -0.302508  0.006758   \n",
       "wic_benefits_12m     0.085096     -0.465087       0.604318 -0.043678   \n",
       "phys_health         -0.119684      0.255974      -0.355842  0.027707   \n",
       "bmi                 -0.034357      0.135115      -0.243447 -0.103664   \n",
       "health_insur        -0.010856      0.080319      -0.268233  0.213176   \n",
       "med_care_12m         0.101723     -0.118550       0.187718 -0.052694   \n",
       "pregnant_now         0.013961     -0.012979       0.064867  0.057463   \n",
       "soc_participation   -0.151637      0.126095      -0.150677 -0.076265   \n",
       "anx_frequency        0.094845      0.005761      -0.000691  0.177038   \n",
       "dep_frequency        0.155709     -0.126277       0.186663  0.106074   \n",
       "mh_care_12m          0.123079     -0.008473       0.020323  0.061263   \n",
       "\n",
       "                   food_security  wic_benefits_12m  phys_health       bmi  \\\n",
       "survey_year            -0.079376          0.029451    -0.005413  0.043442   \n",
       "region                 -0.041168         -0.046760     0.054825 -0.001592   \n",
       "age                    -0.151255          0.322844    -0.047951 -0.049664   \n",
       "education              -0.265454          0.470852    -0.326387 -0.225722   \n",
       "race                   -0.020121         -0.112591     0.062850 -0.008791   \n",
       "sex_orient             -0.142761          0.085096    -0.119684 -0.034357   \n",
       "marital_stat            0.233081         -0.465087     0.255974  0.135115   \n",
       "inc_pov_ratio          -0.302508          0.604318    -0.355842 -0.243447   \n",
       "us_born                 0.006758         -0.043678     0.027707 -0.103664   \n",
       "food_security           1.000000         -0.246726     0.288405  0.107764   \n",
       "wic_benefits_12m       -0.246726          1.000000    -0.275206 -0.159470   \n",
       "phys_health             0.288405         -0.275206     1.000000  0.278410   \n",
       "bmi                     0.107764         -0.159470     0.278410  1.000000   \n",
       "health_insur            0.109252         -0.144291     0.103554  0.075915   \n",
       "med_care_12m           -0.301887          0.096949    -0.159775 -0.116612   \n",
       "pregnant_now           -0.090052          0.032533    -0.058259  0.001745   \n",
       "soc_participation       0.226549         -0.160552     0.218931  0.042848   \n",
       "anx_frequency          -0.155160          0.028897    -0.188808 -0.039679   \n",
       "dep_frequency          -0.219700          0.190071    -0.272680 -0.131245   \n",
       "mh_care_12m            -0.042886          0.025163    -0.078579 -0.089843   \n",
       "\n",
       "                   health_insur  med_care_12m  pregnant_now  \\\n",
       "survey_year           -0.025060      0.064675     -0.023566   \n",
       "region                 0.031765     -0.017199     -0.008783   \n",
       "age                   -0.085740      0.029429      0.076767   \n",
       "education             -0.269600      0.189453      0.067404   \n",
       "race                  -0.054089      0.002717     -0.024131   \n",
       "sex_orient            -0.010856      0.101723      0.013961   \n",
       "marital_stat           0.080319     -0.118550     -0.012979   \n",
       "inc_pov_ratio         -0.268233      0.187718      0.064867   \n",
       "us_born                0.213176     -0.052694      0.057463   \n",
       "food_security          0.109252     -0.301887     -0.090052   \n",
       "wic_benefits_12m      -0.144291      0.096949      0.032533   \n",
       "phys_health            0.103554     -0.159775     -0.058259   \n",
       "bmi                    0.075915     -0.116612      0.001745   \n",
       "health_insur           1.000000     -0.219717      0.018269   \n",
       "med_care_12m          -0.219717      1.000000      0.080301   \n",
       "pregnant_now           0.018269      0.080301      1.000000   \n",
       "soc_participation      0.063312     -0.093467     -0.002034   \n",
       "anx_frequency          0.025132      0.078510      0.002985   \n",
       "dep_frequency          0.001534      0.152448     -0.001012   \n",
       "mh_care_12m            0.030329      0.022643     -0.037913   \n",
       "\n",
       "                   soc_participation  anx_frequency  dep_frequency  \\\n",
       "survey_year                 0.008694      -0.055337      -0.032481   \n",
       "region                     -0.002554       0.041998       0.030867   \n",
       "age                        -0.088025       0.072177       0.111097   \n",
       "education                  -0.167091      -0.007003       0.164704   \n",
       "race                       -0.014689       0.098264       0.024321   \n",
       "sex_orient                 -0.151637       0.094845       0.155709   \n",
       "marital_stat                0.126095       0.005761      -0.126277   \n",
       "inc_pov_ratio              -0.150677      -0.000691       0.186663   \n",
       "us_born                    -0.076265       0.177038       0.106074   \n",
       "food_security               0.226549      -0.155160      -0.219700   \n",
       "wic_benefits_12m           -0.160552       0.028897       0.190071   \n",
       "phys_health                 0.218931      -0.188808      -0.272680   \n",
       "bmi                         0.042848      -0.039679      -0.131245   \n",
       "health_insur                0.063312       0.025132       0.001534   \n",
       "med_care_12m               -0.093467       0.078510       0.152448   \n",
       "pregnant_now               -0.002034       0.002985      -0.001012   \n",
       "soc_participation           1.000000      -0.295942      -0.330855   \n",
       "anx_frequency              -0.295942       1.000000       0.568586   \n",
       "dep_frequency              -0.330855       0.568586       1.000000   \n",
       "mh_care_12m                -0.232443       0.304913       0.388357   \n",
       "\n",
       "                   mh_care_12m  \n",
       "survey_year          -0.009999  \n",
       "region                0.045677  \n",
       "age                  -0.010751  \n",
       "education             0.020323  \n",
       "race                  0.071692  \n",
       "sex_orient            0.123079  \n",
       "marital_stat         -0.008473  \n",
       "inc_pov_ratio         0.020323  \n",
       "us_born               0.061263  \n",
       "food_security        -0.042886  \n",
       "wic_benefits_12m      0.025163  \n",
       "phys_health          -0.078579  \n",
       "bmi                  -0.089843  \n",
       "health_insur          0.030329  \n",
       "med_care_12m          0.022643  \n",
       "pregnant_now         -0.037913  \n",
       "soc_participation    -0.232443  \n",
       "anx_frequency         0.304913  \n",
       "dep_frequency         0.388357  \n",
       "mh_care_12m           1.000000  "
      ]
     },
     "execution_count": 91,
     "metadata": {},
     "output_type": "execute_result"
    }
   ],
   "source": [
    "# correlation matrix of all variables in dataframe\n",
    "corrm = df.corr()\n",
    "corrm"
   ]
  },
  {
   "cell_type": "code",
   "execution_count": 92,
   "id": "bc3b91f6",
   "metadata": {},
   "outputs": [
    {
     "data": {
      "text/html": [
       "<div>\n",
       "<style scoped>\n",
       "    .dataframe tbody tr th:only-of-type {\n",
       "        vertical-align: middle;\n",
       "    }\n",
       "\n",
       "    .dataframe tbody tr th {\n",
       "        vertical-align: top;\n",
       "    }\n",
       "\n",
       "    .dataframe thead th {\n",
       "        text-align: right;\n",
       "    }\n",
       "</style>\n",
       "<table border=\"1\" class=\"dataframe\">\n",
       "  <thead>\n",
       "    <tr style=\"text-align: right;\">\n",
       "      <th></th>\n",
       "      <th>soc_participation</th>\n",
       "    </tr>\n",
       "  </thead>\n",
       "  <tbody>\n",
       "    <tr>\n",
       "      <th>soc_participation</th>\n",
       "      <td>1.000000</td>\n",
       "    </tr>\n",
       "    <tr>\n",
       "      <th>food_security</th>\n",
       "      <td>0.226549</td>\n",
       "    </tr>\n",
       "    <tr>\n",
       "      <th>phys_health</th>\n",
       "      <td>0.218931</td>\n",
       "    </tr>\n",
       "    <tr>\n",
       "      <th>marital_stat</th>\n",
       "      <td>0.126095</td>\n",
       "    </tr>\n",
       "    <tr>\n",
       "      <th>health_insur</th>\n",
       "      <td>0.063312</td>\n",
       "    </tr>\n",
       "    <tr>\n",
       "      <th>bmi</th>\n",
       "      <td>0.042848</td>\n",
       "    </tr>\n",
       "    <tr>\n",
       "      <th>survey_year</th>\n",
       "      <td>0.008694</td>\n",
       "    </tr>\n",
       "  </tbody>\n",
       "</table>\n",
       "</div>"
      ],
      "text/plain": [
       "                   soc_participation\n",
       "soc_participation           1.000000\n",
       "food_security               0.226549\n",
       "phys_health                 0.218931\n",
       "marital_stat                0.126095\n",
       "health_insur                0.063312\n",
       "bmi                         0.042848\n",
       "survey_year                 0.008694"
      ]
     },
     "execution_count": 92,
     "metadata": {},
     "output_type": "execute_result"
    }
   ],
   "source": [
    "# variables most highly positively correlated with the variable \"social participation\"\n",
    "pos_cor = corrm['soc_participation'] > 0\n",
    "corrm['soc_participation'][pos_cor].sort_values(ascending = False).to_frame()"
   ]
  },
  {
   "cell_type": "code",
   "execution_count": 93,
   "id": "ece09103",
   "metadata": {},
   "outputs": [
    {
     "data": {
      "text/html": [
       "<div>\n",
       "<style scoped>\n",
       "    .dataframe tbody tr th:only-of-type {\n",
       "        vertical-align: middle;\n",
       "    }\n",
       "\n",
       "    .dataframe tbody tr th {\n",
       "        vertical-align: top;\n",
       "    }\n",
       "\n",
       "    .dataframe thead th {\n",
       "        text-align: right;\n",
       "    }\n",
       "</style>\n",
       "<table border=\"1\" class=\"dataframe\">\n",
       "  <thead>\n",
       "    <tr style=\"text-align: right;\">\n",
       "      <th></th>\n",
       "      <th>soc_participation</th>\n",
       "    </tr>\n",
       "  </thead>\n",
       "  <tbody>\n",
       "    <tr>\n",
       "      <th>dep_frequency</th>\n",
       "      <td>-0.330855</td>\n",
       "    </tr>\n",
       "    <tr>\n",
       "      <th>anx_frequency</th>\n",
       "      <td>-0.295942</td>\n",
       "    </tr>\n",
       "    <tr>\n",
       "      <th>mh_care_12m</th>\n",
       "      <td>-0.232443</td>\n",
       "    </tr>\n",
       "    <tr>\n",
       "      <th>education</th>\n",
       "      <td>-0.167091</td>\n",
       "    </tr>\n",
       "    <tr>\n",
       "      <th>wic_benefits_12m</th>\n",
       "      <td>-0.160552</td>\n",
       "    </tr>\n",
       "    <tr>\n",
       "      <th>sex_orient</th>\n",
       "      <td>-0.151637</td>\n",
       "    </tr>\n",
       "    <tr>\n",
       "      <th>inc_pov_ratio</th>\n",
       "      <td>-0.150677</td>\n",
       "    </tr>\n",
       "    <tr>\n",
       "      <th>med_care_12m</th>\n",
       "      <td>-0.093467</td>\n",
       "    </tr>\n",
       "    <tr>\n",
       "      <th>age</th>\n",
       "      <td>-0.088025</td>\n",
       "    </tr>\n",
       "    <tr>\n",
       "      <th>us_born</th>\n",
       "      <td>-0.076265</td>\n",
       "    </tr>\n",
       "    <tr>\n",
       "      <th>race</th>\n",
       "      <td>-0.014689</td>\n",
       "    </tr>\n",
       "    <tr>\n",
       "      <th>region</th>\n",
       "      <td>-0.002554</td>\n",
       "    </tr>\n",
       "    <tr>\n",
       "      <th>pregnant_now</th>\n",
       "      <td>-0.002034</td>\n",
       "    </tr>\n",
       "  </tbody>\n",
       "</table>\n",
       "</div>"
      ],
      "text/plain": [
       "                  soc_participation\n",
       "dep_frequency             -0.330855\n",
       "anx_frequency             -0.295942\n",
       "mh_care_12m               -0.232443\n",
       "education                 -0.167091\n",
       "wic_benefits_12m          -0.160552\n",
       "sex_orient                -0.151637\n",
       "inc_pov_ratio             -0.150677\n",
       "med_care_12m              -0.093467\n",
       "age                       -0.088025\n",
       "us_born                   -0.076265\n",
       "race                      -0.014689\n",
       "region                    -0.002554\n",
       "pregnant_now              -0.002034"
      ]
     },
     "execution_count": 93,
     "metadata": {},
     "output_type": "execute_result"
    }
   ],
   "source": [
    "# variables most highly negatively correlated with the variable \"social participation\"\n",
    "neg_cor = corrm['soc_participation'] < 0\n",
    "corrm['soc_participation'][neg_cor].sort_values(ascending = True).to_frame()"
   ]
  },
  {
   "cell_type": "code",
   "execution_count": 94,
   "id": "94e66a34",
   "metadata": {},
   "outputs": [
    {
     "data": {
      "text/html": [
       "<div>\n",
       "<style scoped>\n",
       "    .dataframe tbody tr th:only-of-type {\n",
       "        vertical-align: middle;\n",
       "    }\n",
       "\n",
       "    .dataframe tbody tr th {\n",
       "        vertical-align: top;\n",
       "    }\n",
       "\n",
       "    .dataframe thead th {\n",
       "        text-align: right;\n",
       "    }\n",
       "</style>\n",
       "<table border=\"1\" class=\"dataframe\">\n",
       "  <thead>\n",
       "    <tr style=\"text-align: right;\">\n",
       "      <th></th>\n",
       "      <th>anx_frequency</th>\n",
       "    </tr>\n",
       "  </thead>\n",
       "  <tbody>\n",
       "    <tr>\n",
       "      <th>anx_frequency</th>\n",
       "      <td>1.000000</td>\n",
       "    </tr>\n",
       "    <tr>\n",
       "      <th>dep_frequency</th>\n",
       "      <td>0.568586</td>\n",
       "    </tr>\n",
       "    <tr>\n",
       "      <th>mh_care_12m</th>\n",
       "      <td>0.304913</td>\n",
       "    </tr>\n",
       "    <tr>\n",
       "      <th>us_born</th>\n",
       "      <td>0.177038</td>\n",
       "    </tr>\n",
       "    <tr>\n",
       "      <th>race</th>\n",
       "      <td>0.098264</td>\n",
       "    </tr>\n",
       "    <tr>\n",
       "      <th>sex_orient</th>\n",
       "      <td>0.094845</td>\n",
       "    </tr>\n",
       "    <tr>\n",
       "      <th>med_care_12m</th>\n",
       "      <td>0.078510</td>\n",
       "    </tr>\n",
       "    <tr>\n",
       "      <th>age</th>\n",
       "      <td>0.072177</td>\n",
       "    </tr>\n",
       "    <tr>\n",
       "      <th>region</th>\n",
       "      <td>0.041998</td>\n",
       "    </tr>\n",
       "    <tr>\n",
       "      <th>wic_benefits_12m</th>\n",
       "      <td>0.028897</td>\n",
       "    </tr>\n",
       "    <tr>\n",
       "      <th>health_insur</th>\n",
       "      <td>0.025132</td>\n",
       "    </tr>\n",
       "    <tr>\n",
       "      <th>marital_stat</th>\n",
       "      <td>0.005761</td>\n",
       "    </tr>\n",
       "    <tr>\n",
       "      <th>pregnant_now</th>\n",
       "      <td>0.002985</td>\n",
       "    </tr>\n",
       "  </tbody>\n",
       "</table>\n",
       "</div>"
      ],
      "text/plain": [
       "                  anx_frequency\n",
       "anx_frequency          1.000000\n",
       "dep_frequency          0.568586\n",
       "mh_care_12m            0.304913\n",
       "us_born                0.177038\n",
       "race                   0.098264\n",
       "sex_orient             0.094845\n",
       "med_care_12m           0.078510\n",
       "age                    0.072177\n",
       "region                 0.041998\n",
       "wic_benefits_12m       0.028897\n",
       "health_insur           0.025132\n",
       "marital_stat           0.005761\n",
       "pregnant_now           0.002985"
      ]
     },
     "execution_count": 94,
     "metadata": {},
     "output_type": "execute_result"
    }
   ],
   "source": [
    "# variables most highly positively correlated with the variable \"anxiety\"\n",
    "pos_cor = corrm['anx_frequency'] > 0\n",
    "corrm['anx_frequency'][pos_cor].sort_values(ascending = False).to_frame()"
   ]
  },
  {
   "cell_type": "code",
   "execution_count": 95,
   "id": "b70a833e",
   "metadata": {},
   "outputs": [
    {
     "data": {
      "text/html": [
       "<div>\n",
       "<style scoped>\n",
       "    .dataframe tbody tr th:only-of-type {\n",
       "        vertical-align: middle;\n",
       "    }\n",
       "\n",
       "    .dataframe tbody tr th {\n",
       "        vertical-align: top;\n",
       "    }\n",
       "\n",
       "    .dataframe thead th {\n",
       "        text-align: right;\n",
       "    }\n",
       "</style>\n",
       "<table border=\"1\" class=\"dataframe\">\n",
       "  <thead>\n",
       "    <tr style=\"text-align: right;\">\n",
       "      <th></th>\n",
       "      <th>anx_frequency</th>\n",
       "    </tr>\n",
       "  </thead>\n",
       "  <tbody>\n",
       "    <tr>\n",
       "      <th>soc_participation</th>\n",
       "      <td>-0.295942</td>\n",
       "    </tr>\n",
       "    <tr>\n",
       "      <th>phys_health</th>\n",
       "      <td>-0.188808</td>\n",
       "    </tr>\n",
       "    <tr>\n",
       "      <th>food_security</th>\n",
       "      <td>-0.155160</td>\n",
       "    </tr>\n",
       "    <tr>\n",
       "      <th>survey_year</th>\n",
       "      <td>-0.055337</td>\n",
       "    </tr>\n",
       "    <tr>\n",
       "      <th>bmi</th>\n",
       "      <td>-0.039679</td>\n",
       "    </tr>\n",
       "    <tr>\n",
       "      <th>education</th>\n",
       "      <td>-0.007003</td>\n",
       "    </tr>\n",
       "    <tr>\n",
       "      <th>inc_pov_ratio</th>\n",
       "      <td>-0.000691</td>\n",
       "    </tr>\n",
       "  </tbody>\n",
       "</table>\n",
       "</div>"
      ],
      "text/plain": [
       "                   anx_frequency\n",
       "soc_participation      -0.295942\n",
       "phys_health            -0.188808\n",
       "food_security          -0.155160\n",
       "survey_year            -0.055337\n",
       "bmi                    -0.039679\n",
       "education              -0.007003\n",
       "inc_pov_ratio          -0.000691"
      ]
     },
     "execution_count": 95,
     "metadata": {},
     "output_type": "execute_result"
    }
   ],
   "source": [
    "# variables most highly negatively correlated with the variable \"anxiety\"\n",
    "neg_cor = corrm['anx_frequency'] < 0\n",
    "corrm['anx_frequency'][neg_cor].sort_values(ascending = True).to_frame()"
   ]
  },
  {
   "cell_type": "code",
   "execution_count": 96,
   "id": "7a83c306",
   "metadata": {},
   "outputs": [
    {
     "data": {
      "text/html": [
       "<div>\n",
       "<style scoped>\n",
       "    .dataframe tbody tr th:only-of-type {\n",
       "        vertical-align: middle;\n",
       "    }\n",
       "\n",
       "    .dataframe tbody tr th {\n",
       "        vertical-align: top;\n",
       "    }\n",
       "\n",
       "    .dataframe thead th {\n",
       "        text-align: right;\n",
       "    }\n",
       "</style>\n",
       "<table border=\"1\" class=\"dataframe\">\n",
       "  <thead>\n",
       "    <tr style=\"text-align: right;\">\n",
       "      <th></th>\n",
       "      <th>dep_frequency</th>\n",
       "    </tr>\n",
       "  </thead>\n",
       "  <tbody>\n",
       "    <tr>\n",
       "      <th>dep_frequency</th>\n",
       "      <td>1.000000</td>\n",
       "    </tr>\n",
       "    <tr>\n",
       "      <th>anx_frequency</th>\n",
       "      <td>0.568586</td>\n",
       "    </tr>\n",
       "    <tr>\n",
       "      <th>mh_care_12m</th>\n",
       "      <td>0.388357</td>\n",
       "    </tr>\n",
       "    <tr>\n",
       "      <th>wic_benefits_12m</th>\n",
       "      <td>0.190071</td>\n",
       "    </tr>\n",
       "    <tr>\n",
       "      <th>inc_pov_ratio</th>\n",
       "      <td>0.186663</td>\n",
       "    </tr>\n",
       "    <tr>\n",
       "      <th>education</th>\n",
       "      <td>0.164704</td>\n",
       "    </tr>\n",
       "    <tr>\n",
       "      <th>sex_orient</th>\n",
       "      <td>0.155709</td>\n",
       "    </tr>\n",
       "    <tr>\n",
       "      <th>med_care_12m</th>\n",
       "      <td>0.152448</td>\n",
       "    </tr>\n",
       "    <tr>\n",
       "      <th>age</th>\n",
       "      <td>0.111097</td>\n",
       "    </tr>\n",
       "    <tr>\n",
       "      <th>us_born</th>\n",
       "      <td>0.106074</td>\n",
       "    </tr>\n",
       "    <tr>\n",
       "      <th>region</th>\n",
       "      <td>0.030867</td>\n",
       "    </tr>\n",
       "    <tr>\n",
       "      <th>race</th>\n",
       "      <td>0.024321</td>\n",
       "    </tr>\n",
       "    <tr>\n",
       "      <th>health_insur</th>\n",
       "      <td>0.001534</td>\n",
       "    </tr>\n",
       "  </tbody>\n",
       "</table>\n",
       "</div>"
      ],
      "text/plain": [
       "                  dep_frequency\n",
       "dep_frequency          1.000000\n",
       "anx_frequency          0.568586\n",
       "mh_care_12m            0.388357\n",
       "wic_benefits_12m       0.190071\n",
       "inc_pov_ratio          0.186663\n",
       "education              0.164704\n",
       "sex_orient             0.155709\n",
       "med_care_12m           0.152448\n",
       "age                    0.111097\n",
       "us_born                0.106074\n",
       "region                 0.030867\n",
       "race                   0.024321\n",
       "health_insur           0.001534"
      ]
     },
     "execution_count": 96,
     "metadata": {},
     "output_type": "execute_result"
    }
   ],
   "source": [
    "# variables most highly positively correlated with the variable \"anxiety\"\n",
    "pos_cor = corrm['dep_frequency'] > 0\n",
    "corrm['dep_frequency'][pos_cor].sort_values(ascending = False).to_frame()"
   ]
  },
  {
   "cell_type": "code",
   "execution_count": 97,
   "id": "ade11b84",
   "metadata": {},
   "outputs": [
    {
     "data": {
      "text/html": [
       "<div>\n",
       "<style scoped>\n",
       "    .dataframe tbody tr th:only-of-type {\n",
       "        vertical-align: middle;\n",
       "    }\n",
       "\n",
       "    .dataframe tbody tr th {\n",
       "        vertical-align: top;\n",
       "    }\n",
       "\n",
       "    .dataframe thead th {\n",
       "        text-align: right;\n",
       "    }\n",
       "</style>\n",
       "<table border=\"1\" class=\"dataframe\">\n",
       "  <thead>\n",
       "    <tr style=\"text-align: right;\">\n",
       "      <th></th>\n",
       "      <th>dep_frequency</th>\n",
       "    </tr>\n",
       "  </thead>\n",
       "  <tbody>\n",
       "    <tr>\n",
       "      <th>soc_participation</th>\n",
       "      <td>-0.330855</td>\n",
       "    </tr>\n",
       "    <tr>\n",
       "      <th>phys_health</th>\n",
       "      <td>-0.272680</td>\n",
       "    </tr>\n",
       "    <tr>\n",
       "      <th>food_security</th>\n",
       "      <td>-0.219700</td>\n",
       "    </tr>\n",
       "    <tr>\n",
       "      <th>bmi</th>\n",
       "      <td>-0.131245</td>\n",
       "    </tr>\n",
       "    <tr>\n",
       "      <th>marital_stat</th>\n",
       "      <td>-0.126277</td>\n",
       "    </tr>\n",
       "    <tr>\n",
       "      <th>survey_year</th>\n",
       "      <td>-0.032481</td>\n",
       "    </tr>\n",
       "    <tr>\n",
       "      <th>pregnant_now</th>\n",
       "      <td>-0.001012</td>\n",
       "    </tr>\n",
       "  </tbody>\n",
       "</table>\n",
       "</div>"
      ],
      "text/plain": [
       "                   dep_frequency\n",
       "soc_participation      -0.330855\n",
       "phys_health            -0.272680\n",
       "food_security          -0.219700\n",
       "bmi                    -0.131245\n",
       "marital_stat           -0.126277\n",
       "survey_year            -0.032481\n",
       "pregnant_now           -0.001012"
      ]
     },
     "execution_count": 97,
     "metadata": {},
     "output_type": "execute_result"
    }
   ],
   "source": [
    "# variables most highly negatively correlated with the variable \"anxiety\"\n",
    "neg_cor = corrm['dep_frequency'] < 0\n",
    "corrm['dep_frequency'][neg_cor].sort_values(ascending = True).to_frame()"
   ]
  },
  {
   "cell_type": "code",
   "execution_count": 98,
   "id": "dbc91b62",
   "metadata": {},
   "outputs": [],
   "source": [
    "df.to_csv(\"data/cleaned_merged_adult_data.csv\", encoding = \"utf-8\", index=False)"
   ]
  },
  {
   "cell_type": "code",
   "execution_count": 99,
   "id": "9fb54def",
   "metadata": {},
   "outputs": [],
   "source": [
    "import pandas as pd\n",
    "# import second dataset\n",
    "dataframe = pd.read_csv(\"data/mh_reg.csv\")\n",
    "# keep only relevant columns/variables\n",
    "dataframe_2 = dataframe[['SPHSERVICE', 'CMPSERVICE', 'OPISERVICE', 'RTCSERVICE', 'IJSSERVICE', 'REGION']]\n",
    "# change names of columns/variables\n",
    "dataframe_2 = dataframe_2.rename(columns = {'SPHSERVICE':'psych_hospital', 'CMPSERVICE':'mh_program', 'OPISERVICE':'psych_inpatient', \n",
    "                                            'RTCSERVICE':'residential_center', 'IJSSERVICE':'inst_justice', 'REGION':'region'})"
   ]
  },
  {
   "cell_type": "code",
   "execution_count": 100,
   "id": "19dc41e4",
   "metadata": {},
   "outputs": [],
   "source": [
    "df_2 = dataframe_2.copy()"
   ]
  },
  {
   "cell_type": "code",
   "execution_count": 101,
   "id": "62895c6e",
   "metadata": {},
   "outputs": [
    {
     "data": {
      "text/plain": [
       "4    9734\n",
       "3    9720\n",
       "2    9271\n",
       "1    6260\n",
       "0      15\n",
       "Name: region, dtype: int64"
      ]
     },
     "execution_count": 101,
     "metadata": {},
     "output_type": "execute_result"
    }
   ],
   "source": [
    "# key criteria (region)\n",
    "df_2.dropna(subset=['region']) # remove individuals who do not have data for a key variable\n",
    "df_2['region'].value_counts() # count the number of individuals in each region"
   ]
  },
  {
   "cell_type": "code",
   "execution_count": 102,
   "id": "78bd390f",
   "metadata": {},
   "outputs": [],
   "source": [
    "# remove \"0\" regions\n",
    "df_2 = df_2[df_2['region'] > 0]"
   ]
  },
  {
   "cell_type": "code",
   "execution_count": 103,
   "id": "32b86e0c",
   "metadata": {},
   "outputs": [
    {
     "data": {
      "text/html": [
       "<div>\n",
       "<style scoped>\n",
       "    .dataframe tbody tr th:only-of-type {\n",
       "        vertical-align: middle;\n",
       "    }\n",
       "\n",
       "    .dataframe tbody tr th {\n",
       "        vertical-align: top;\n",
       "    }\n",
       "\n",
       "    .dataframe thead th {\n",
       "        text-align: right;\n",
       "    }\n",
       "</style>\n",
       "<table border=\"1\" class=\"dataframe\">\n",
       "  <thead>\n",
       "    <tr style=\"text-align: right;\">\n",
       "      <th></th>\n",
       "      <th>psych_hospital</th>\n",
       "      <th>mh_program</th>\n",
       "      <th>psych_inpatient</th>\n",
       "      <th>residential_center</th>\n",
       "      <th>inst_justice</th>\n",
       "      <th>region</th>\n",
       "    </tr>\n",
       "  </thead>\n",
       "  <tbody>\n",
       "    <tr>\n",
       "      <th>count</th>\n",
       "      <td>34985.000000</td>\n",
       "      <td>34985.000000</td>\n",
       "      <td>34985.000000</td>\n",
       "      <td>34985.000000</td>\n",
       "      <td>34985.000000</td>\n",
       "      <td>34985.000000</td>\n",
       "    </tr>\n",
       "    <tr>\n",
       "      <th>mean</th>\n",
       "      <td>1.981964</td>\n",
       "      <td>1.025325</td>\n",
       "      <td>1.962927</td>\n",
       "      <td>1.990139</td>\n",
       "      <td>1.990910</td>\n",
       "      <td>2.655367</td>\n",
       "    </tr>\n",
       "    <tr>\n",
       "      <th>std</th>\n",
       "      <td>0.133085</td>\n",
       "      <td>0.157113</td>\n",
       "      <td>0.188943</td>\n",
       "      <td>0.098815</td>\n",
       "      <td>0.094907</td>\n",
       "      <td>1.067815</td>\n",
       "    </tr>\n",
       "    <tr>\n",
       "      <th>min</th>\n",
       "      <td>1.000000</td>\n",
       "      <td>1.000000</td>\n",
       "      <td>1.000000</td>\n",
       "      <td>1.000000</td>\n",
       "      <td>1.000000</td>\n",
       "      <td>1.000000</td>\n",
       "    </tr>\n",
       "    <tr>\n",
       "      <th>25%</th>\n",
       "      <td>2.000000</td>\n",
       "      <td>1.000000</td>\n",
       "      <td>2.000000</td>\n",
       "      <td>2.000000</td>\n",
       "      <td>2.000000</td>\n",
       "      <td>2.000000</td>\n",
       "    </tr>\n",
       "    <tr>\n",
       "      <th>50%</th>\n",
       "      <td>2.000000</td>\n",
       "      <td>1.000000</td>\n",
       "      <td>2.000000</td>\n",
       "      <td>2.000000</td>\n",
       "      <td>2.000000</td>\n",
       "      <td>3.000000</td>\n",
       "    </tr>\n",
       "    <tr>\n",
       "      <th>75%</th>\n",
       "      <td>2.000000</td>\n",
       "      <td>1.000000</td>\n",
       "      <td>2.000000</td>\n",
       "      <td>2.000000</td>\n",
       "      <td>2.000000</td>\n",
       "      <td>4.000000</td>\n",
       "    </tr>\n",
       "    <tr>\n",
       "      <th>max</th>\n",
       "      <td>2.000000</td>\n",
       "      <td>2.000000</td>\n",
       "      <td>2.000000</td>\n",
       "      <td>2.000000</td>\n",
       "      <td>2.000000</td>\n",
       "      <td>4.000000</td>\n",
       "    </tr>\n",
       "  </tbody>\n",
       "</table>\n",
       "</div>"
      ],
      "text/plain": [
       "       psych_hospital    mh_program  psych_inpatient  residential_center  \\\n",
       "count    34985.000000  34985.000000     34985.000000        34985.000000   \n",
       "mean         1.981964      1.025325         1.962927            1.990139   \n",
       "std          0.133085      0.157113         0.188943            0.098815   \n",
       "min          1.000000      1.000000         1.000000            1.000000   \n",
       "25%          2.000000      1.000000         2.000000            2.000000   \n",
       "50%          2.000000      1.000000         2.000000            2.000000   \n",
       "75%          2.000000      1.000000         2.000000            2.000000   \n",
       "max          2.000000      2.000000         2.000000            2.000000   \n",
       "\n",
       "       inst_justice        region  \n",
       "count  34985.000000  34985.000000  \n",
       "mean       1.990910      2.655367  \n",
       "std        0.094907      1.067815  \n",
       "min        1.000000      1.000000  \n",
       "25%        2.000000      2.000000  \n",
       "50%        2.000000      3.000000  \n",
       "75%        2.000000      4.000000  \n",
       "max        2.000000      4.000000  "
      ]
     },
     "execution_count": 103,
     "metadata": {},
     "output_type": "execute_result"
    }
   ],
   "source": [
    "# checking that data make sense (min, max, average)\n",
    "df_2.describe()"
   ]
  },
  {
   "cell_type": "code",
   "execution_count": 104,
   "id": "034a274e",
   "metadata": {},
   "outputs": [
    {
     "name": "stderr",
     "output_type": "stream",
     "text": [
      "<ipython-input-104-ba3571a5765e>:3: FutureWarning: Indexing with multiple keys (implicitly converted to a tuple of keys) will be deprecated, use a list instead.\n",
      "  df_2 = groups_2[\"psych_hospital\", \"mh_program\", \"psych_inpatient\", \"residential_center\", \"inst_justice\"].sum()\n"
     ]
    }
   ],
   "source": [
    "# grouping by region\n",
    "groups_2 = df_2.groupby([\"region\"]) \n",
    "df_2 = groups_2[\"psych_hospital\", \"mh_program\", \"psych_inpatient\", \"residential_center\", \"inst_justice\"].sum()"
   ]
  },
  {
   "cell_type": "code",
   "execution_count": 105,
   "id": "e6839559",
   "metadata": {},
   "outputs": [
    {
     "data": {
      "text/html": [
       "<div>\n",
       "<style scoped>\n",
       "    .dataframe tbody tr th:only-of-type {\n",
       "        vertical-align: middle;\n",
       "    }\n",
       "\n",
       "    .dataframe tbody tr th {\n",
       "        vertical-align: top;\n",
       "    }\n",
       "\n",
       "    .dataframe thead th {\n",
       "        text-align: right;\n",
       "    }\n",
       "</style>\n",
       "<table border=\"1\" class=\"dataframe\">\n",
       "  <thead>\n",
       "    <tr style=\"text-align: right;\">\n",
       "      <th></th>\n",
       "      <th>psych_hospital</th>\n",
       "      <th>mh_program</th>\n",
       "      <th>psych_inpatient</th>\n",
       "      <th>residential_center</th>\n",
       "      <th>inst_justice</th>\n",
       "    </tr>\n",
       "    <tr>\n",
       "      <th>region</th>\n",
       "      <th></th>\n",
       "      <th></th>\n",
       "      <th></th>\n",
       "      <th></th>\n",
       "      <th></th>\n",
       "    </tr>\n",
       "  </thead>\n",
       "  <tbody>\n",
       "    <tr>\n",
       "      <th>1</th>\n",
       "      <td>12451</td>\n",
       "      <td>6408</td>\n",
       "      <td>12210</td>\n",
       "      <td>12461</td>\n",
       "      <td>12415</td>\n",
       "    </tr>\n",
       "    <tr>\n",
       "      <th>2</th>\n",
       "      <td>18416</td>\n",
       "      <td>9428</td>\n",
       "      <td>18234</td>\n",
       "      <td>18408</td>\n",
       "      <td>18509</td>\n",
       "    </tr>\n",
       "    <tr>\n",
       "      <th>3</th>\n",
       "      <td>19120</td>\n",
       "      <td>10073</td>\n",
       "      <td>19030</td>\n",
       "      <td>19370</td>\n",
       "      <td>19439</td>\n",
       "    </tr>\n",
       "    <tr>\n",
       "      <th>4</th>\n",
       "      <td>19352</td>\n",
       "      <td>9962</td>\n",
       "      <td>19199</td>\n",
       "      <td>19386</td>\n",
       "      <td>19289</td>\n",
       "    </tr>\n",
       "  </tbody>\n",
       "</table>\n",
       "</div>"
      ],
      "text/plain": [
       "        psych_hospital  mh_program  psych_inpatient  residential_center  \\\n",
       "region                                                                    \n",
       "1                12451        6408            12210               12461   \n",
       "2                18416        9428            18234               18408   \n",
       "3                19120       10073            19030               19370   \n",
       "4                19352        9962            19199               19386   \n",
       "\n",
       "        inst_justice  \n",
       "region                \n",
       "1              12415  \n",
       "2              18509  \n",
       "3              19439  \n",
       "4              19289  "
      ]
     },
     "execution_count": 105,
     "metadata": {},
     "output_type": "execute_result"
    }
   ],
   "source": [
    "df_2"
   ]
  },
  {
   "cell_type": "code",
   "execution_count": 106,
   "id": "b3ccd36e",
   "metadata": {},
   "outputs": [
    {
     "data": {
      "text/html": [
       "<div>\n",
       "<style scoped>\n",
       "    .dataframe tbody tr th:only-of-type {\n",
       "        vertical-align: middle;\n",
       "    }\n",
       "\n",
       "    .dataframe tbody tr th {\n",
       "        vertical-align: top;\n",
       "    }\n",
       "\n",
       "    .dataframe thead th {\n",
       "        text-align: right;\n",
       "    }\n",
       "</style>\n",
       "<table border=\"1\" class=\"dataframe\">\n",
       "  <thead>\n",
       "    <tr style=\"text-align: right;\">\n",
       "      <th></th>\n",
       "      <th>survey_year</th>\n",
       "      <th>region</th>\n",
       "      <th>age</th>\n",
       "      <th>education</th>\n",
       "      <th>race</th>\n",
       "      <th>sex_orient</th>\n",
       "      <th>marital_stat</th>\n",
       "      <th>inc_pov_ratio</th>\n",
       "      <th>us_born</th>\n",
       "      <th>food_security</th>\n",
       "      <th>...</th>\n",
       "      <th>pregnant_now</th>\n",
       "      <th>soc_participation</th>\n",
       "      <th>anx_frequency</th>\n",
       "      <th>dep_frequency</th>\n",
       "      <th>mh_care_12m</th>\n",
       "      <th>psych_hospital</th>\n",
       "      <th>mh_program</th>\n",
       "      <th>psych_inpatient</th>\n",
       "      <th>residential_center</th>\n",
       "      <th>inst_justice</th>\n",
       "    </tr>\n",
       "  </thead>\n",
       "  <tbody>\n",
       "    <tr>\n",
       "      <th>0</th>\n",
       "      <td>2019</td>\n",
       "      <td>4</td>\n",
       "      <td>28.0</td>\n",
       "      <td>4.0</td>\n",
       "      <td>1.0</td>\n",
       "      <td>2.0</td>\n",
       "      <td>1.0</td>\n",
       "      <td>3</td>\n",
       "      <td>1.0</td>\n",
       "      <td>1.0</td>\n",
       "      <td>...</td>\n",
       "      <td>2.0</td>\n",
       "      <td>1</td>\n",
       "      <td>5.0</td>\n",
       "      <td>5.0</td>\n",
       "      <td>2.0</td>\n",
       "      <td>19352</td>\n",
       "      <td>9962</td>\n",
       "      <td>19199</td>\n",
       "      <td>19386</td>\n",
       "      <td>19289</td>\n",
       "    </tr>\n",
       "    <tr>\n",
       "      <th>1</th>\n",
       "      <td>2019</td>\n",
       "      <td>3</td>\n",
       "      <td>31.0</td>\n",
       "      <td>9.0</td>\n",
       "      <td>1.0</td>\n",
       "      <td>2.0</td>\n",
       "      <td>1.0</td>\n",
       "      <td>9</td>\n",
       "      <td>1.0</td>\n",
       "      <td>1.0</td>\n",
       "      <td>...</td>\n",
       "      <td>2.0</td>\n",
       "      <td>1</td>\n",
       "      <td>4.0</td>\n",
       "      <td>5.0</td>\n",
       "      <td>2.0</td>\n",
       "      <td>19120</td>\n",
       "      <td>10073</td>\n",
       "      <td>19030</td>\n",
       "      <td>19370</td>\n",
       "      <td>19439</td>\n",
       "    </tr>\n",
       "    <tr>\n",
       "      <th>2</th>\n",
       "      <td>2019</td>\n",
       "      <td>4</td>\n",
       "      <td>40.0</td>\n",
       "      <td>1.0</td>\n",
       "      <td>1.0</td>\n",
       "      <td>2.0</td>\n",
       "      <td>2.0</td>\n",
       "      <td>7</td>\n",
       "      <td>2.0</td>\n",
       "      <td>1.0</td>\n",
       "      <td>...</td>\n",
       "      <td>2.0</td>\n",
       "      <td>1</td>\n",
       "      <td>5.0</td>\n",
       "      <td>5.0</td>\n",
       "      <td>2.0</td>\n",
       "      <td>19352</td>\n",
       "      <td>9962</td>\n",
       "      <td>19199</td>\n",
       "      <td>19386</td>\n",
       "      <td>19289</td>\n",
       "    </tr>\n",
       "    <tr>\n",
       "      <th>3</th>\n",
       "      <td>2019</td>\n",
       "      <td>4</td>\n",
       "      <td>24.0</td>\n",
       "      <td>4.0</td>\n",
       "      <td>NaN</td>\n",
       "      <td>2.0</td>\n",
       "      <td>2.0</td>\n",
       "      <td>5</td>\n",
       "      <td>1.0</td>\n",
       "      <td>1.0</td>\n",
       "      <td>...</td>\n",
       "      <td>2.0</td>\n",
       "      <td>1</td>\n",
       "      <td>1.0</td>\n",
       "      <td>2.0</td>\n",
       "      <td>2.0</td>\n",
       "      <td>19352</td>\n",
       "      <td>9962</td>\n",
       "      <td>19199</td>\n",
       "      <td>19386</td>\n",
       "      <td>19289</td>\n",
       "    </tr>\n",
       "    <tr>\n",
       "      <th>4</th>\n",
       "      <td>2019</td>\n",
       "      <td>4</td>\n",
       "      <td>36.0</td>\n",
       "      <td>9.0</td>\n",
       "      <td>1.0</td>\n",
       "      <td>1.0</td>\n",
       "      <td>1.0</td>\n",
       "      <td>14</td>\n",
       "      <td>1.0</td>\n",
       "      <td>1.0</td>\n",
       "      <td>...</td>\n",
       "      <td>1.0</td>\n",
       "      <td>1</td>\n",
       "      <td>4.0</td>\n",
       "      <td>4.0</td>\n",
       "      <td>1.0</td>\n",
       "      <td>19352</td>\n",
       "      <td>9962</td>\n",
       "      <td>19199</td>\n",
       "      <td>19386</td>\n",
       "      <td>19289</td>\n",
       "    </tr>\n",
       "    <tr>\n",
       "      <th>...</th>\n",
       "      <td>...</td>\n",
       "      <td>...</td>\n",
       "      <td>...</td>\n",
       "      <td>...</td>\n",
       "      <td>...</td>\n",
       "      <td>...</td>\n",
       "      <td>...</td>\n",
       "      <td>...</td>\n",
       "      <td>...</td>\n",
       "      <td>...</td>\n",
       "      <td>...</td>\n",
       "      <td>...</td>\n",
       "      <td>...</td>\n",
       "      <td>...</td>\n",
       "      <td>...</td>\n",
       "      <td>...</td>\n",
       "      <td>...</td>\n",
       "      <td>...</td>\n",
       "      <td>...</td>\n",
       "      <td>...</td>\n",
       "      <td>...</td>\n",
       "    </tr>\n",
       "    <tr>\n",
       "      <th>1093</th>\n",
       "      <td>2021</td>\n",
       "      <td>3</td>\n",
       "      <td>29.0</td>\n",
       "      <td>9.0</td>\n",
       "      <td>2.0</td>\n",
       "      <td>2.0</td>\n",
       "      <td>1.0</td>\n",
       "      <td>8</td>\n",
       "      <td>2.0</td>\n",
       "      <td>1.0</td>\n",
       "      <td>...</td>\n",
       "      <td>2.0</td>\n",
       "      <td>1</td>\n",
       "      <td>5.0</td>\n",
       "      <td>5.0</td>\n",
       "      <td>2.0</td>\n",
       "      <td>19120</td>\n",
       "      <td>10073</td>\n",
       "      <td>19030</td>\n",
       "      <td>19370</td>\n",
       "      <td>19439</td>\n",
       "    </tr>\n",
       "    <tr>\n",
       "      <th>1094</th>\n",
       "      <td>2021</td>\n",
       "      <td>1</td>\n",
       "      <td>29.0</td>\n",
       "      <td>4.0</td>\n",
       "      <td>1.0</td>\n",
       "      <td>2.0</td>\n",
       "      <td>2.0</td>\n",
       "      <td>9</td>\n",
       "      <td>1.0</td>\n",
       "      <td>1.0</td>\n",
       "      <td>...</td>\n",
       "      <td>2.0</td>\n",
       "      <td>1</td>\n",
       "      <td>2.0</td>\n",
       "      <td>5.0</td>\n",
       "      <td>2.0</td>\n",
       "      <td>12451</td>\n",
       "      <td>6408</td>\n",
       "      <td>12210</td>\n",
       "      <td>12461</td>\n",
       "      <td>12415</td>\n",
       "    </tr>\n",
       "    <tr>\n",
       "      <th>1095</th>\n",
       "      <td>2021</td>\n",
       "      <td>3</td>\n",
       "      <td>24.0</td>\n",
       "      <td>5.0</td>\n",
       "      <td>1.0</td>\n",
       "      <td>2.0</td>\n",
       "      <td>1.0</td>\n",
       "      <td>8</td>\n",
       "      <td>1.0</td>\n",
       "      <td>1.0</td>\n",
       "      <td>...</td>\n",
       "      <td>2.0</td>\n",
       "      <td>1</td>\n",
       "      <td>1.0</td>\n",
       "      <td>1.0</td>\n",
       "      <td>1.0</td>\n",
       "      <td>19120</td>\n",
       "      <td>10073</td>\n",
       "      <td>19030</td>\n",
       "      <td>19370</td>\n",
       "      <td>19439</td>\n",
       "    </tr>\n",
       "    <tr>\n",
       "      <th>1096</th>\n",
       "      <td>2021</td>\n",
       "      <td>4</td>\n",
       "      <td>28.0</td>\n",
       "      <td>4.0</td>\n",
       "      <td>5.0</td>\n",
       "      <td>2.0</td>\n",
       "      <td>2.0</td>\n",
       "      <td>3</td>\n",
       "      <td>1.0</td>\n",
       "      <td>1.0</td>\n",
       "      <td>...</td>\n",
       "      <td>2.0</td>\n",
       "      <td>2</td>\n",
       "      <td>1.0</td>\n",
       "      <td>2.0</td>\n",
       "      <td>1.0</td>\n",
       "      <td>19352</td>\n",
       "      <td>9962</td>\n",
       "      <td>19199</td>\n",
       "      <td>19386</td>\n",
       "      <td>19289</td>\n",
       "    </tr>\n",
       "    <tr>\n",
       "      <th>1097</th>\n",
       "      <td>2021</td>\n",
       "      <td>2</td>\n",
       "      <td>26.0</td>\n",
       "      <td>4.0</td>\n",
       "      <td>1.0</td>\n",
       "      <td>2.0</td>\n",
       "      <td>1.0</td>\n",
       "      <td>8</td>\n",
       "      <td>1.0</td>\n",
       "      <td>1.0</td>\n",
       "      <td>...</td>\n",
       "      <td>2.0</td>\n",
       "      <td>1</td>\n",
       "      <td>1.0</td>\n",
       "      <td>3.0</td>\n",
       "      <td>1.0</td>\n",
       "      <td>18416</td>\n",
       "      <td>9428</td>\n",
       "      <td>18234</td>\n",
       "      <td>18408</td>\n",
       "      <td>18509</td>\n",
       "    </tr>\n",
       "  </tbody>\n",
       "</table>\n",
       "<p>1098 rows × 25 columns</p>\n",
       "</div>"
      ],
      "text/plain": [
       "      survey_year  region   age  education  race  sex_orient  marital_stat  \\\n",
       "0            2019       4  28.0        4.0   1.0         2.0           1.0   \n",
       "1            2019       3  31.0        9.0   1.0         2.0           1.0   \n",
       "2            2019       4  40.0        1.0   1.0         2.0           2.0   \n",
       "3            2019       4  24.0        4.0   NaN         2.0           2.0   \n",
       "4            2019       4  36.0        9.0   1.0         1.0           1.0   \n",
       "...           ...     ...   ...        ...   ...         ...           ...   \n",
       "1093         2021       3  29.0        9.0   2.0         2.0           1.0   \n",
       "1094         2021       1  29.0        4.0   1.0         2.0           2.0   \n",
       "1095         2021       3  24.0        5.0   1.0         2.0           1.0   \n",
       "1096         2021       4  28.0        4.0   5.0         2.0           2.0   \n",
       "1097         2021       2  26.0        4.0   1.0         2.0           1.0   \n",
       "\n",
       "      inc_pov_ratio  us_born  food_security  ...  pregnant_now  \\\n",
       "0                 3      1.0            1.0  ...           2.0   \n",
       "1                 9      1.0            1.0  ...           2.0   \n",
       "2                 7      2.0            1.0  ...           2.0   \n",
       "3                 5      1.0            1.0  ...           2.0   \n",
       "4                14      1.0            1.0  ...           1.0   \n",
       "...             ...      ...            ...  ...           ...   \n",
       "1093              8      2.0            1.0  ...           2.0   \n",
       "1094              9      1.0            1.0  ...           2.0   \n",
       "1095              8      1.0            1.0  ...           2.0   \n",
       "1096              3      1.0            1.0  ...           2.0   \n",
       "1097              8      1.0            1.0  ...           2.0   \n",
       "\n",
       "      soc_participation  anx_frequency  dep_frequency  mh_care_12m  \\\n",
       "0                     1            5.0            5.0          2.0   \n",
       "1                     1            4.0            5.0          2.0   \n",
       "2                     1            5.0            5.0          2.0   \n",
       "3                     1            1.0            2.0          2.0   \n",
       "4                     1            4.0            4.0          1.0   \n",
       "...                 ...            ...            ...          ...   \n",
       "1093                  1            5.0            5.0          2.0   \n",
       "1094                  1            2.0            5.0          2.0   \n",
       "1095                  1            1.0            1.0          1.0   \n",
       "1096                  2            1.0            2.0          1.0   \n",
       "1097                  1            1.0            3.0          1.0   \n",
       "\n",
       "      psych_hospital  mh_program  psych_inpatient  residential_center  \\\n",
       "0              19352        9962            19199               19386   \n",
       "1              19120       10073            19030               19370   \n",
       "2              19352        9962            19199               19386   \n",
       "3              19352        9962            19199               19386   \n",
       "4              19352        9962            19199               19386   \n",
       "...              ...         ...              ...                 ...   \n",
       "1093           19120       10073            19030               19370   \n",
       "1094           12451        6408            12210               12461   \n",
       "1095           19120       10073            19030               19370   \n",
       "1096           19352        9962            19199               19386   \n",
       "1097           18416        9428            18234               18408   \n",
       "\n",
       "      inst_justice  \n",
       "0            19289  \n",
       "1            19439  \n",
       "2            19289  \n",
       "3            19289  \n",
       "4            19289  \n",
       "...            ...  \n",
       "1093         19439  \n",
       "1094         12415  \n",
       "1095         19439  \n",
       "1096         19289  \n",
       "1097         18509  \n",
       "\n",
       "[1098 rows x 25 columns]"
      ]
     },
     "execution_count": 106,
     "metadata": {},
     "output_type": "execute_result"
    }
   ],
   "source": [
    "merged_df = pd.merge(df, df_2, on = \"region\", how=\"left\")\n",
    "merged_df"
   ]
  },
  {
   "cell_type": "code",
   "execution_count": 107,
   "id": "1e298590",
   "metadata": {},
   "outputs": [],
   "source": [
    "merged_df.to_csv(\"data/cleaned_merged_total_data.csv\", encoding = \"utf-8\", index=False)"
   ]
  }
 ],
 "metadata": {
  "kernelspec": {
   "display_name": "Python 3 (ipykernel)",
   "language": "python",
   "name": "python3"
  },
  "language_info": {
   "codemirror_mode": {
    "name": "ipython",
    "version": 3
   },
   "file_extension": ".py",
   "mimetype": "text/x-python",
   "name": "python",
   "nbconvert_exporter": "python",
   "pygments_lexer": "ipython3",
   "version": "3.9.13"
  }
 },
 "nbformat": 4,
 "nbformat_minor": 5
}
